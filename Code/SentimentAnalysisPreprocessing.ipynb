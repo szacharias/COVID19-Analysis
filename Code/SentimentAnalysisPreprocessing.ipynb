{
 "cells": [
  {
   "cell_type": "code",
   "execution_count": 1,
   "metadata": {},
   "outputs": [],
   "source": [
    "import pandas as pd\n",
    "import numpy as np\n",
    "import DataPreprocessingLibrary as dpl\n",
    "import string\n",
    "\n",
    "\n",
    "pd.set_option('display.max_colwidth', -1)\n",
    "\n",
    "\n",
    "API_COLUMNS = [\"Title\", \"Description\", \"NewsURL\", \"PublishedTime\", \"SourceName\" , \"SourceURL\"]\n",
    "# api_content = pd.read_csv(\"../Data/NewsContentClean.csv\")\n",
    "api_content = pd.read_csv(\"../Data/NewsContent.csv\", index_col=[0])"
   ]
  },
  {
   "cell_type": "code",
   "execution_count": 2,
   "metadata": {},
   "outputs": [],
   "source": [
    "from textblob import TextBlob\n",
    "import nltk\n",
    "from textblob import Word\n",
    "from textblob.wordnet import VERB"
   ]
  },
  {
   "cell_type": "code",
   "execution_count": 3,
   "metadata": {},
   "outputs": [],
   "source": [
    "from nltk.sentiment.vader import SentimentIntensityAnalyzer\n",
    "analyzer = SentimentIntensityAnalyzer()"
   ]
  },
  {
   "cell_type": "code",
   "execution_count": 4,
   "metadata": {},
   "outputs": [
    {
     "name": "stdout",
     "output_type": "stream",
     "text": [
      "Showing the results of the original : \n",
      "The Coronavirus May Make Us Think Twice About Business Travel. That's a Good Thing\n",
      "================\n",
      "\n",
      "Showing the results of the preprocessed : \n",
      "the coronavirus may make us think twice about business travel  that a good thing\n",
      "================\n",
      "\n"
     ]
    }
   ],
   "source": [
    "temp1 = api_content.iloc[20].Title\n",
    "print(\"Showing the results of the original : \\n\" + str(temp1) + \"\\n================\\n\")\n",
    "print(\"Showing the results of the preprocessed : \\n\" + str(dpl.preprocess(temp1) + \"\\n================\\n\"))"
   ]
  },
  {
   "cell_type": "code",
   "execution_count": 5,
   "metadata": {},
   "outputs": [],
   "source": [
    "api_content[\"Title\"] = api_content['Title'].apply(dpl.preprocess)\n",
    "api_content[\"Description\"] = api_content['Description'].apply(dpl.preprocess)\n",
    "\n",
    "# api_content = api_content.drop([\"Title\",\"Description\"] , axis = 1) \n",
    "# api_content.to_csv(\"../Data/NewsContentPreprocessed.csv\", index= False)"
   ]
  },
  {
   "cell_type": "code",
   "execution_count": 6,
   "metadata": {},
   "outputs": [],
   "source": [
    "sentiment_value = []\n",
    "sentiment_value_description = []\n",
    "\n",
    "sentiment_value_nltk = []\n",
    "sentiment_value_description_nltk = []\n",
    "\n",
    "for title in api_content.Title.values:\n",
    "    sentiment_value.append(  TextBlob( title ).sentiment.polarity  )\n",
    "    sentiment_value_nltk.append(analyzer.polarity_scores(title)[\"compound\"])\n",
    "    \n",
    "for description in api_content.Description.values:\n",
    "    sentiment_value_description.append(  TextBlob( description ).sentiment.polarity  )\n",
    "    sentiment_value_description_nltk.append(analyzer.polarity_scores(description)[\"compound\"])\n",
    "    "
   ]
  },
  {
   "cell_type": "code",
   "execution_count": 7,
   "metadata": {},
   "outputs": [],
   "source": [
    "api_content[\"SentimentValueTitle\"] = sentiment_value\n",
    "api_content[\"SentimentValueDescription\"] = sentiment_value_description\n",
    "\n",
    "api_content[\"SentimentValueTitleVader\"] = sentiment_value_nltk\n",
    "api_content[\"SentimentValueDescriptionVader\"] = sentiment_value_description_nltk\n",
    "\n"
   ]
  },
  {
   "cell_type": "code",
   "execution_count": 8,
   "metadata": {},
   "outputs": [],
   "source": [
    "### General Sentiment value for the title is 0.03, pretty average but still more positive\n",
    "### General Sentiment value for the description is 0.07, pretty average but still more positive"
   ]
  },
  {
   "cell_type": "code",
   "execution_count": 9,
   "metadata": {},
   "outputs": [
    {
     "data": {
      "text/plain": [
       "count    1486.000000\n",
       "mean     0.037129   \n",
       "std      0.208240   \n",
       "min     -1.000000   \n",
       "25%      0.000000   \n",
       "50%      0.000000   \n",
       "75%      0.125000   \n",
       "max      1.000000   \n",
       "Name: SentimentValueTitle, dtype: float64"
      ]
     },
     "execution_count": 9,
     "metadata": {},
     "output_type": "execute_result"
    }
   ],
   "source": [
    "api_content['SentimentValueTitle'].describe()"
   ]
  },
  {
   "cell_type": "code",
   "execution_count": 10,
   "metadata": {},
   "outputs": [
    {
     "data": {
      "text/plain": [
       "count    1486.000000\n",
       "mean     0.077775   \n",
       "std      0.201332   \n",
       "min     -1.000000   \n",
       "25%      0.000000   \n",
       "50%      0.042235   \n",
       "75%      0.185085   \n",
       "max      1.000000   \n",
       "Name: SentimentValueDescription, dtype: float64"
      ]
     },
     "execution_count": 10,
     "metadata": {},
     "output_type": "execute_result"
    }
   ],
   "source": [
    "api_content['SentimentValueDescription'].describe()"
   ]
  },
  {
   "cell_type": "code",
   "execution_count": 11,
   "metadata": {},
   "outputs": [
    {
     "data": {
      "text/plain": [
       "count    1486.000000\n",
       "mean    -0.101213   \n",
       "std      0.367924   \n",
       "min     -0.911800   \n",
       "25%     -0.381800   \n",
       "50%      0.000000   \n",
       "75%      0.000000   \n",
       "max      0.812600   \n",
       "Name: SentimentValueTitleVader, dtype: float64"
      ]
     },
     "execution_count": 11,
     "metadata": {},
     "output_type": "execute_result"
    }
   ],
   "source": [
    "api_content['SentimentValueTitleVader'].describe()"
   ]
  },
  {
   "cell_type": "code",
   "execution_count": 12,
   "metadata": {},
   "outputs": [
    {
     "data": {
      "text/plain": [
       "count    1486.000000\n",
       "mean     0.003740   \n",
       "std      0.455928   \n",
       "min     -0.957800   \n",
       "25%     -0.375600   \n",
       "50%      0.000000   \n",
       "75%      0.381800   \n",
       "max      0.967400   \n",
       "Name: SentimentValueDescriptionVader, dtype: float64"
      ]
     },
     "execution_count": 12,
     "metadata": {},
     "output_type": "execute_result"
    }
   ],
   "source": [
    "api_content['SentimentValueDescriptionVader'].describe()\n"
   ]
  },
  {
   "cell_type": "code",
   "execution_count": 13,
   "metadata": {},
   "outputs": [
    {
     "data": {
      "text/html": [
       "<div>\n",
       "<style scoped>\n",
       "    .dataframe tbody tr th:only-of-type {\n",
       "        vertical-align: middle;\n",
       "    }\n",
       "\n",
       "    .dataframe tbody tr th {\n",
       "        vertical-align: top;\n",
       "    }\n",
       "\n",
       "    .dataframe thead th {\n",
       "        text-align: right;\n",
       "    }\n",
       "</style>\n",
       "<table border=\"1\" class=\"dataframe\">\n",
       "  <thead>\n",
       "    <tr style=\"text-align: right;\">\n",
       "      <th></th>\n",
       "      <th>SentimentValueTitle</th>\n",
       "      <th>SentimentValueDescription</th>\n",
       "      <th>SentimentValueTitleVader</th>\n",
       "      <th>SentimentValueDescriptionVader</th>\n",
       "    </tr>\n",
       "    <tr>\n",
       "      <th>PublishedTime</th>\n",
       "      <th></th>\n",
       "      <th></th>\n",
       "      <th></th>\n",
       "      <th></th>\n",
       "    </tr>\n",
       "  </thead>\n",
       "  <tbody>\n",
       "    <tr>\n",
       "      <th>2020-02-01</th>\n",
       "      <td>0.067340</td>\n",
       "      <td>0.135278</td>\n",
       "      <td>-0.117200</td>\n",
       "      <td>0.247789</td>\n",
       "    </tr>\n",
       "    <tr>\n",
       "      <th>2020-02-02</th>\n",
       "      <td>0.000000</td>\n",
       "      <td>0.129167</td>\n",
       "      <td>-0.363450</td>\n",
       "      <td>-0.707050</td>\n",
       "    </tr>\n",
       "    <tr>\n",
       "      <th>2020-02-03</th>\n",
       "      <td>-0.002481</td>\n",
       "      <td>0.221231</td>\n",
       "      <td>-0.131725</td>\n",
       "      <td>0.099325</td>\n",
       "    </tr>\n",
       "    <tr>\n",
       "      <th>2020-02-04</th>\n",
       "      <td>0.035354</td>\n",
       "      <td>-0.008081</td>\n",
       "      <td>-0.098256</td>\n",
       "      <td>0.007178</td>\n",
       "    </tr>\n",
       "    <tr>\n",
       "      <th>2020-02-05</th>\n",
       "      <td>0.035455</td>\n",
       "      <td>-0.020045</td>\n",
       "      <td>-0.077610</td>\n",
       "      <td>0.007750</td>\n",
       "    </tr>\n",
       "    <tr>\n",
       "      <th>...</th>\n",
       "      <td>...</td>\n",
       "      <td>...</td>\n",
       "      <td>...</td>\n",
       "      <td>...</td>\n",
       "    </tr>\n",
       "    <tr>\n",
       "      <th>2020-07-25</th>\n",
       "      <td>-0.000852</td>\n",
       "      <td>0.091809</td>\n",
       "      <td>0.153650</td>\n",
       "      <td>0.138975</td>\n",
       "    </tr>\n",
       "    <tr>\n",
       "      <th>2020-07-26</th>\n",
       "      <td>-0.001178</td>\n",
       "      <td>0.022489</td>\n",
       "      <td>0.034044</td>\n",
       "      <td>-0.110689</td>\n",
       "    </tr>\n",
       "    <tr>\n",
       "      <th>2020-07-27</th>\n",
       "      <td>0.017058</td>\n",
       "      <td>0.038123</td>\n",
       "      <td>0.146960</td>\n",
       "      <td>0.186760</td>\n",
       "    </tr>\n",
       "    <tr>\n",
       "      <th>2020-07-28</th>\n",
       "      <td>-0.056944</td>\n",
       "      <td>0.167222</td>\n",
       "      <td>-0.049162</td>\n",
       "      <td>0.131125</td>\n",
       "    </tr>\n",
       "    <tr>\n",
       "      <th>2020-07-29</th>\n",
       "      <td>-0.033333</td>\n",
       "      <td>0.119444</td>\n",
       "      <td>0.042667</td>\n",
       "      <td>0.079400</td>\n",
       "    </tr>\n",
       "  </tbody>\n",
       "</table>\n",
       "<p>180 rows × 4 columns</p>\n",
       "</div>"
      ],
      "text/plain": [
       "               SentimentValueTitle  SentimentValueDescription  \\\n",
       "PublishedTime                                                   \n",
       "2020-02-01     0.067340             0.135278                    \n",
       "2020-02-02     0.000000             0.129167                    \n",
       "2020-02-03    -0.002481             0.221231                    \n",
       "2020-02-04     0.035354            -0.008081                    \n",
       "2020-02-05     0.035455            -0.020045                    \n",
       "...                 ...                  ...                    \n",
       "2020-07-25    -0.000852             0.091809                    \n",
       "2020-07-26    -0.001178             0.022489                    \n",
       "2020-07-27     0.017058             0.038123                    \n",
       "2020-07-28    -0.056944             0.167222                    \n",
       "2020-07-29    -0.033333             0.119444                    \n",
       "\n",
       "               SentimentValueTitleVader  SentimentValueDescriptionVader  \n",
       "PublishedTime                                                            \n",
       "2020-02-01    -0.117200                  0.247789                        \n",
       "2020-02-02    -0.363450                 -0.707050                        \n",
       "2020-02-03    -0.131725                  0.099325                        \n",
       "2020-02-04    -0.098256                  0.007178                        \n",
       "2020-02-05    -0.077610                  0.007750                        \n",
       "...                 ...                       ...                        \n",
       "2020-07-25     0.153650                  0.138975                        \n",
       "2020-07-26     0.034044                 -0.110689                        \n",
       "2020-07-27     0.146960                  0.186760                        \n",
       "2020-07-28    -0.049162                  0.131125                        \n",
       "2020-07-29     0.042667                  0.079400                        \n",
       "\n",
       "[180 rows x 4 columns]"
      ]
     },
     "execution_count": 13,
     "metadata": {},
     "output_type": "execute_result"
    }
   ],
   "source": [
    "sentiment_values_df = api_content.copy()\n",
    "sentiment_values_df.groupby(\"PublishedTime\").mean()"
   ]
  },
  {
   "cell_type": "code",
   "execution_count": 14,
   "metadata": {},
   "outputs": [],
   "source": [
    "api_content.to_csv(\"../Data/NewsContentPreprocessed.csv\")\n",
    "sentiment_values_df.to_csv(\"../Data/SentimentValues.csv\")"
   ]
  },
  {
   "cell_type": "code",
   "execution_count": 41,
   "metadata": {},
   "outputs": [],
   "source": [
    "# temp  = pd.read_csv(\"../Data/SentimentValues.csv\", index_col=[0])\n",
    "# temp  = pd.read_csv(\"../Data/NewsContentPreprocessed.csv\", index_col=[0])\n",
    "# # temp"
   ]
  },
  {
   "cell_type": "markdown",
   "metadata": {},
   "source": [
    "https://pypi.org/project/COVID19Py/"
   ]
  }
 ],
 "metadata": {
  "kernelspec": {
   "display_name": "Python 3",
   "language": "python",
   "name": "python3"
  },
  "language_info": {
   "codemirror_mode": {
    "name": "ipython",
    "version": 3
   },
   "file_extension": ".py",
   "mimetype": "text/x-python",
   "name": "python",
   "nbconvert_exporter": "python",
   "pygments_lexer": "ipython3",
   "version": "3.7.4"
  }
 },
 "nbformat": 4,
 "nbformat_minor": 4
}
