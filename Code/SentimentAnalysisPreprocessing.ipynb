{
 "cells": [
  {
   "cell_type": "code",
   "execution_count": 10,
   "metadata": {},
   "outputs": [],
   "source": [
    "import pandas as pd\n",
    "import numpy as np\n",
    "import DataPreprocessingLibrary as dpl\n",
    "import string\n",
    "\n",
    "\n",
    "pd.set_option('display.max_colwidth', -1)\n",
    "\n",
    "\n",
    "API_COLUMNS = [\"Title\", \"Description\", \"NewsURL\", \"PublishedTime\", \"SourceName\" , \"SourceURL\"]\n",
    "# api_content = pd.read_csv(\"../Data/NewsContentClean.csv\")\n",
    "api_content = pd.read_csv(\"../Data/NewsContent.csv\", index_col=[0])"
   ]
  },
  {
   "cell_type": "code",
   "execution_count": 11,
   "metadata": {},
   "outputs": [
    {
     "name": "stdout",
     "output_type": "stream",
     "text": [
      "Showing the results of the original : \n",
      "China’s coronavirus outbreak generates economic backlash in US oil industry\n",
      "================\n",
      "\n",
      "Showing the results of the preprocessed : \n",
      "china coronavirus outbreak generates economic backlash in us oil industry\n",
      "================\n",
      "\n"
     ]
    }
   ],
   "source": [
    "temp1 = api_content.iloc[20].Title\n",
    "print(\"Showing the results of the original : \\n\" + str(temp1) + \"\\n================\\n\")\n",
    "print(\"Showing the results of the preprocessed : \\n\" + str(dpl.preprocess(temp1) + \"\\n================\\n\"))"
   ]
  },
  {
   "cell_type": "code",
   "execution_count": 13,
   "metadata": {},
   "outputs": [],
   "source": [
    "api_content[\"Title\"] = api_content['Title'].apply(dpl.preprocess)\n",
    "api_content[\"Description\"] = api_content['Description'].apply(dpl.preprocess)\n",
    "\n",
    "# api_content = api_content.drop([\"Title\",\"Description\"] , axis = 1) \n",
    "# api_content.to_csv(\"../Data/NewsContentPreprocessed.csv\", index= False)"
   ]
  },
  {
   "cell_type": "code",
   "execution_count": 43,
   "metadata": {},
   "outputs": [
    {
     "data": {
      "text/plain": [
       "array(['tsa issues new directive for anyone entering the us from china as coronavirus spreads',\n",
       "       'as coronavirus spreads  tsa issues new directive for anyone entering the us from china',\n",
       "       'neenah family secures seats on flight from coronavirus epicenter of wuhan to us',\n",
       "       ...,\n",
       "       'dr  anne rimoin on how to stop the spread of coronavirus as us tops deaths',\n",
       "       'sean connery french riviera home is on sale for us    million   as france leads the post brexit  post coronavirus property boom',\n",
       "       ' don think m fake news   fox news  chris wallace and trump spar over misleading claims about us coronavirus death rates'],\n",
       "      dtype=object)"
      ]
     },
     "execution_count": 43,
     "metadata": {},
     "output_type": "execute_result"
    }
   ],
   "source": [
    "api_content.Title.values"
   ]
  },
  {
   "cell_type": "code",
   "execution_count": 50,
   "metadata": {},
   "outputs": [],
   "source": [
    "sentiment_value = []\n",
    "sentiment_value_description = []\n",
    "\n",
    "for title in api_content.Title.values:\n",
    "    sentiment_value.append(  TextBlob( title ).sentiment.polarity  )\n",
    "for description in api_content.Description.values:\n",
    "    sentiment_value_description.append(  TextBlob( description ).sentiment.polarity  )\n",
    "    "
   ]
  },
  {
   "cell_type": "code",
   "execution_count": 51,
   "metadata": {},
   "outputs": [],
   "source": [
    "api_content[\"SentimentValueTitle\"] = sentiment_value\n",
    "api_content[\"SentimentValueDescription\"] = sentiment_value_description\n"
   ]
  },
  {
   "cell_type": "code",
   "execution_count": 74,
   "metadata": {},
   "outputs": [
    {
     "data": {
      "text/plain": [
       "count    1404.000000\n",
       "mean     0.037313   \n",
       "std      0.209274   \n",
       "min     -1.000000   \n",
       "25%      0.000000   \n",
       "50%      0.000000   \n",
       "75%      0.125000   \n",
       "max      1.000000   \n",
       "Name: SentimentValueTitle, dtype: float64"
      ]
     },
     "execution_count": 74,
     "metadata": {},
     "output_type": "execute_result"
    }
   ],
   "source": [
    "api_content['SentimentValueTitle'].describe()"
   ]
  },
  {
   "cell_type": "code",
   "execution_count": 75,
   "metadata": {},
   "outputs": [
    {
     "data": {
      "text/plain": [
       "count    1404.000000\n",
       "mean     0.077195   \n",
       "std      0.202825   \n",
       "min     -1.000000   \n",
       "25%      0.000000   \n",
       "50%      0.041023   \n",
       "75%      0.183333   \n",
       "max      1.000000   \n",
       "Name: SentimentValueDescription, dtype: float64"
      ]
     },
     "execution_count": 75,
     "metadata": {},
     "output_type": "execute_result"
    }
   ],
   "source": [
    "api_content['SentimentValueDescription'].describe()"
   ]
  },
  {
   "cell_type": "code",
   "execution_count": 84,
   "metadata": {},
   "outputs": [],
   "source": [
    "sentiment_values_df = api_content.iloc[:,-2: ]"
   ]
  },
  {
   "cell_type": "code",
   "execution_count": 57,
   "metadata": {},
   "outputs": [
    {
     "data": {
      "text/html": [
       "<div>\n",
       "<style scoped>\n",
       "    .dataframe tbody tr th:only-of-type {\n",
       "        vertical-align: middle;\n",
       "    }\n",
       "\n",
       "    .dataframe tbody tr th {\n",
       "        vertical-align: top;\n",
       "    }\n",
       "\n",
       "    .dataframe thead th {\n",
       "        text-align: right;\n",
       "    }\n",
       "</style>\n",
       "<table border=\"1\" class=\"dataframe\">\n",
       "  <thead>\n",
       "    <tr style=\"text-align: right;\">\n",
       "      <th></th>\n",
       "      <th>Title</th>\n",
       "      <th>Description</th>\n",
       "      <th>NewsURL</th>\n",
       "      <th>PublishedTime</th>\n",
       "      <th>SourceName</th>\n",
       "      <th>SourceURL</th>\n",
       "      <th>SentimentValueTitle</th>\n",
       "      <th>SentimentValueDescription</th>\n",
       "    </tr>\n",
       "  </thead>\n",
       "  <tbody>\n",
       "    <tr>\n",
       "      <th>0</th>\n",
       "      <td>tsa issues new directive for anyone entering the us from china as coronavirus spreads</td>\n",
       "      <td>issued new directive effective sunday requiring airlines to ask passengers on flights from outside the united states if they ve been to mainland china in the past    days  the directive comes as the</td>\n",
       "      <td>https://www.msn.com/en-us/news/us/tsa-issues-new-directive-for-anyone-entering-the-us-from-china-as-coronavirus-spreads/ar-BBZyZ7f</td>\n",
       "      <td>2020-02-01</td>\n",
       "      <td>CNN on MSN.com</td>\n",
       "      <td>https://www.msn.com</td>\n",
       "      <td>0.136364</td>\n",
       "      <td>0.121591</td>\n",
       "    </tr>\n",
       "    <tr>\n",
       "      <th>1</th>\n",
       "      <td>as coronavirus spreads  tsa issues new directive for anyone entering the us from china</td>\n",
       "      <td>issued new directive effective sunday requiring airlines to ask passengers on flights from outside the united states if they ve been to mainland china in the past    days  the directive comes as the</td>\n",
       "      <td>https://edition.cnn.com/2020/02/02/politics/tsa-new-directive-coronavirus/index.html</td>\n",
       "      <td>2020-02-01</td>\n",
       "      <td>CNN</td>\n",
       "      <td>https://edition.cnn.com</td>\n",
       "      <td>0.136364</td>\n",
       "      <td>0.121591</td>\n",
       "    </tr>\n",
       "    <tr>\n",
       "      <th>2</th>\n",
       "      <td>neenah family secures seats on flight from coronavirus epicenter of wuhan to us</td>\n",
       "      <td>neenah   daisy  abigail  and adalynn roth have been stuck in wuhan  china   the epicenter of the novel coronavirus  samuel roth was thrilled to learn his family would be coming home on u</td>\n",
       "      <td>https://fox6now.com/2020/02/02/neenah-family-secures-seats-on-flight-from-coronavirus-epicenter-of-wuhan-to-us/</td>\n",
       "      <td>2020-02-01</td>\n",
       "      <td>FOX6 Milwaukee</td>\n",
       "      <td>https://fox6now.com</td>\n",
       "      <td>0.000000</td>\n",
       "      <td>0.600000</td>\n",
       "    </tr>\n",
       "    <tr>\n",
       "      <th>3</th>\n",
       "      <td>us companies suspend china operations  restrict travel as coronavirus outbreak becomes global crisis</td>\n",
       "      <td>disney  tesla  airlines and other companies with significant footprints in china are suspending operations as they respond to the outbreak of the coronavirus</td>\n",
       "      <td>https://www.cnbc.com/2020/02/01/coronavirus-companies-suspend-china-operations-restrict-travel.html</td>\n",
       "      <td>2020-02-01</td>\n",
       "      <td>CNBC</td>\n",
       "      <td>https://www.cnbc.com</td>\n",
       "      <td>0.000000</td>\n",
       "      <td>0.125000</td>\n",
       "    </tr>\n",
       "    <tr>\n",
       "      <th>4</th>\n",
       "      <td>coronavirus  us confirms eighth case with quarantine in effect</td>\n",
       "      <td>federal authorities say massachusetts patient flew from hubei province in central china</td>\n",
       "      <td>https://www.theguardian.com/world/2020/feb/01/coronavirus-us-confirms-eighth-case-massachusetts-quarantine</td>\n",
       "      <td>2020-02-01</td>\n",
       "      <td>The Guardian</td>\n",
       "      <td>https://www.theguardian.com</td>\n",
       "      <td>0.000000</td>\n",
       "      <td>0.000000</td>\n",
       "    </tr>\n",
       "    <tr>\n",
       "      <th>...</th>\n",
       "      <td>...</td>\n",
       "      <td>...</td>\n",
       "      <td>...</td>\n",
       "      <td>...</td>\n",
       "      <td>...</td>\n",
       "      <td>...</td>\n",
       "      <td>...</td>\n",
       "      <td>...</td>\n",
       "    </tr>\n",
       "    <tr>\n",
       "      <th>1466</th>\n",
       "      <td>markets week ahead  us dollar  dow jones p      microsoft  coronavirus</td>\n",
       "      <td>the us dollar fell as the p     and dow jones climbed despite rising coronavirus cases in the us  with earnings season in full swing  all eyes turn this week to microsoft after dismal figures</td>\n",
       "      <td>https://www.dailyfx.com/forex/fundamental/forecast/weekly/title/2020/07/19/Markets-Week-Ahead-US-Dollar-Dow-Jones-SP-500-Microsoft-Coronavirus.html</td>\n",
       "      <td>2020-07-19</td>\n",
       "      <td>DailyFX</td>\n",
       "      <td>https://www.dailyfx.com</td>\n",
       "      <td>0.000000</td>\n",
       "      <td>0.350000</td>\n",
       "    </tr>\n",
       "    <tr>\n",
       "      <th>1467</th>\n",
       "      <td>india coronavirus   our neighbours made us covid    pariahs</td>\n",
       "      <td>last week bedridden retiree living with his wife in the eastern indian city of kolkata  formerly calcutta     and recovered from the disease  health workers and doctors  the united nations</td>\n",
       "      <td>https://www.bbc.co.uk/news/world-asia-india-53418762</td>\n",
       "      <td>2020-07-19</td>\n",
       "      <td>BBC</td>\n",
       "      <td>https://www.bbc.co.uk</td>\n",
       "      <td>0.000000</td>\n",
       "      <td>0.000000</td>\n",
       "    </tr>\n",
       "    <tr>\n",
       "      <th>1471</th>\n",
       "      <td>dr  anne rimoin on how to stop the spread of coronavirus as us tops deaths</td>\n",
       "      <td>dr  anne rimoin  ucla department of epidemiology professor  joins  america news hq  with insight into slowing the spread of coronavirus</td>\n",
       "      <td>https://news.yahoo.com/dr-anne-w-rimoin-stop-212224233.html</td>\n",
       "      <td>2020-07-19</td>\n",
       "      <td>YAHOO!</td>\n",
       "      <td>https://news.yahoo.com</td>\n",
       "      <td>0.000000</td>\n",
       "      <td>0.000000</td>\n",
       "    </tr>\n",
       "    <tr>\n",
       "      <th>1472</th>\n",
       "      <td>sean connery french riviera home is on sale for us    million   as france leads the post brexit  post coronavirus property boom</td>\n",
       "      <td>want to buy celebrity waterside home in france  so do we   from vineyards to villas to parisian bolt holes  now is the time to buy your slice of paradise</td>\n",
       "      <td>https://www.scmp.com/magazines/style/news-trends/article/3093635/sean-connerys-french-riviera-home-sale-us33-million</td>\n",
       "      <td>2020-07-19</td>\n",
       "      <td>South China Morning Post</td>\n",
       "      <td>https://www.scmp.com</td>\n",
       "      <td>0.000000</td>\n",
       "      <td>0.000000</td>\n",
       "    </tr>\n",
       "    <tr>\n",
       "      <th>1473</th>\n",
       "      <td>don think m fake news   fox news  chris wallace and trump spar over misleading claims about us coronavirus death rates</td>\n",
       "      <td>wallace  face to face with trump  fact checked the president false assertions that the us has one of the lowest covid    mortality rates in the world</td>\n",
       "      <td>https://www.businessinsider.com/chris-wallace-challenges-trump-on-covid-19-mortality-rates-2020-7</td>\n",
       "      <td>2020-07-19</td>\n",
       "      <td>Business Insider</td>\n",
       "      <td>https://www.businessinsider.com</td>\n",
       "      <td>-0.500000</td>\n",
       "      <td>-0.400000</td>\n",
       "    </tr>\n",
       "  </tbody>\n",
       "</table>\n",
       "<p>1404 rows × 8 columns</p>\n",
       "</div>"
      ],
      "text/plain": [
       "                                                                                                                                Title  \\\n",
       "0     tsa issues new directive for anyone entering the us from china as coronavirus spreads                                             \n",
       "1     as coronavirus spreads  tsa issues new directive for anyone entering the us from china                                            \n",
       "2     neenah family secures seats on flight from coronavirus epicenter of wuhan to us                                                   \n",
       "3     us companies suspend china operations  restrict travel as coronavirus outbreak becomes global crisis                              \n",
       "4     coronavirus  us confirms eighth case with quarantine in effect                                                                    \n",
       "...                                                              ...                                                                    \n",
       "1466  markets week ahead  us dollar  dow jones p      microsoft  coronavirus                                                            \n",
       "1467  india coronavirus   our neighbours made us covid    pariahs                                                                       \n",
       "1471  dr  anne rimoin on how to stop the spread of coronavirus as us tops deaths                                                        \n",
       "1472  sean connery french riviera home is on sale for us    million   as france leads the post brexit  post coronavirus property boom   \n",
       "1473   don think m fake news   fox news  chris wallace and trump spar over misleading claims about us coronavirus death rates           \n",
       "\n",
       "                                                                                                                                                                                                     Description  \\\n",
       "0     issued new directive effective sunday requiring airlines to ask passengers on flights from outside the united states if they ve been to mainland china in the past    days  the directive comes as the       \n",
       "1     issued new directive effective sunday requiring airlines to ask passengers on flights from outside the united states if they ve been to mainland china in the past    days  the directive comes as the       \n",
       "2     neenah   daisy  abigail  and adalynn roth have been stuck in wuhan  china   the epicenter of the novel coronavirus  samuel roth was thrilled to learn his family would be coming home on u                   \n",
       "3     disney  tesla  airlines and other companies with significant footprints in china are suspending operations as they respond to the outbreak of the coronavirus                                                \n",
       "4     federal authorities say massachusetts patient flew from hubei province in central china                                                                                                                      \n",
       "...                                                                                           ...                                                                                                                  \n",
       "1466  the us dollar fell as the p     and dow jones climbed despite rising coronavirus cases in the us  with earnings season in full swing  all eyes turn this week to microsoft after dismal figures              \n",
       "1467  last week bedridden retiree living with his wife in the eastern indian city of kolkata  formerly calcutta     and recovered from the disease  health workers and doctors  the united nations                 \n",
       "1471  dr  anne rimoin  ucla department of epidemiology professor  joins  america news hq  with insight into slowing the spread of coronavirus                                                                      \n",
       "1472  want to buy celebrity waterside home in france  so do we   from vineyards to villas to parisian bolt holes  now is the time to buy your slice of paradise                                                    \n",
       "1473  wallace  face to face with trump  fact checked the president false assertions that the us has one of the lowest covid    mortality rates in the world                                                        \n",
       "\n",
       "                                                                                                                                                  NewsURL  \\\n",
       "0     https://www.msn.com/en-us/news/us/tsa-issues-new-directive-for-anyone-entering-the-us-from-china-as-coronavirus-spreads/ar-BBZyZ7f                    \n",
       "1     https://edition.cnn.com/2020/02/02/politics/tsa-new-directive-coronavirus/index.html                                                                  \n",
       "2     https://fox6now.com/2020/02/02/neenah-family-secures-seats-on-flight-from-coronavirus-epicenter-of-wuhan-to-us/                                       \n",
       "3     https://www.cnbc.com/2020/02/01/coronavirus-companies-suspend-china-operations-restrict-travel.html                                                   \n",
       "4     https://www.theguardian.com/world/2020/feb/01/coronavirus-us-confirms-eighth-case-massachusetts-quarantine                                            \n",
       "...                                                                                                          ...                                            \n",
       "1466  https://www.dailyfx.com/forex/fundamental/forecast/weekly/title/2020/07/19/Markets-Week-Ahead-US-Dollar-Dow-Jones-SP-500-Microsoft-Coronavirus.html   \n",
       "1467  https://www.bbc.co.uk/news/world-asia-india-53418762                                                                                                  \n",
       "1471  https://news.yahoo.com/dr-anne-w-rimoin-stop-212224233.html                                                                                           \n",
       "1472  https://www.scmp.com/magazines/style/news-trends/article/3093635/sean-connerys-french-riviera-home-sale-us33-million                                  \n",
       "1473  https://www.businessinsider.com/chris-wallace-challenges-trump-on-covid-19-mortality-rates-2020-7                                                     \n",
       "\n",
       "     PublishedTime                SourceName                        SourceURL  \\\n",
       "0     2020-02-01    CNN on MSN.com            https://www.msn.com               \n",
       "1     2020-02-01    CNN                       https://edition.cnn.com           \n",
       "2     2020-02-01    FOX6 Milwaukee            https://fox6now.com               \n",
       "3     2020-02-01    CNBC                      https://www.cnbc.com              \n",
       "4     2020-02-01    The Guardian              https://www.theguardian.com       \n",
       "...          ...             ...                                      ...       \n",
       "1466  2020-07-19    DailyFX                   https://www.dailyfx.com           \n",
       "1467  2020-07-19    BBC                       https://www.bbc.co.uk             \n",
       "1471  2020-07-19    YAHOO!                    https://news.yahoo.com            \n",
       "1472  2020-07-19    South China Morning Post  https://www.scmp.com              \n",
       "1473  2020-07-19    Business Insider          https://www.businessinsider.com   \n",
       "\n",
       "      SentimentValueTitle  SentimentValueDescription  \n",
       "0     0.136364             0.121591                   \n",
       "1     0.136364             0.121591                   \n",
       "2     0.000000             0.600000                   \n",
       "3     0.000000             0.125000                   \n",
       "4     0.000000             0.000000                   \n",
       "...        ...                  ...                   \n",
       "1466  0.000000             0.350000                   \n",
       "1467  0.000000             0.000000                   \n",
       "1471  0.000000             0.000000                   \n",
       "1472  0.000000             0.000000                   \n",
       "1473 -0.500000            -0.400000                   \n",
       "\n",
       "[1404 rows x 8 columns]"
      ]
     },
     "execution_count": 57,
     "metadata": {},
     "output_type": "execute_result"
    }
   ],
   "source": [
    "api_content"
   ]
  },
  {
   "cell_type": "code",
   "execution_count": 70,
   "metadata": {},
   "outputs": [],
   "source": [
    "api_content.to_csv(\"../Data/NewsContentPreprocessed.csv\")\n",
    "sentiment_values_df.to_csv(\"../Data/SentimentValues.csv\")"
   ]
  },
  {
   "cell_type": "code",
   "execution_count": 86,
   "metadata": {},
   "outputs": [],
   "source": [
    "# temp  = pd.read_csv(\"../Data/SentimentValues.csv\", index_col=[0])\n",
    "# temp  = pd.read_csv(\"../Data/NewsContentPreprocessed.csv\", index_col=[0])"
   ]
  },
  {
   "cell_type": "markdown",
   "metadata": {},
   "source": [
    "\n",
    "---\n",
    "\n",
    "### testing out textblob"
   ]
  },
  {
   "cell_type": "code",
   "execution_count": null,
   "metadata": {},
   "outputs": [],
   "source": [
    "from textblob import TextBlob\n",
    "import nltk\n",
    "from textblob import Word\n",
    "from textblob.wordnet import VERB"
   ]
  },
  {
   "cell_type": "code",
   "execution_count": 64,
   "metadata": {},
   "outputs": [
    {
     "data": {
      "text/plain": [
       "-0.6999999999999998"
      ]
     },
     "execution_count": 64,
     "metadata": {},
     "output_type": "execute_result"
    }
   ],
   "source": [
    "temp = api_content.Title.values[-7]\n",
    "TextBlob(\"coronavirus outbreak bad danger\").sentiment.polarity"
   ]
  },
  {
   "cell_type": "code",
   "execution_count": 88,
   "metadata": {},
   "outputs": [],
   "source": [
    "wiki = TextBlob(\"coronavirus us confirms eighth case with quarantine in effect\")"
   ]
  },
  {
   "cell_type": "code",
   "execution_count": 89,
   "metadata": {},
   "outputs": [
    {
     "data": {
      "text/plain": [
       "[('coronavirus', 'NN'),\n",
       " ('us', 'PRP'),\n",
       " ('confirms', 'VBZ'),\n",
       " ('eighth', 'JJ'),\n",
       " ('case', 'NN'),\n",
       " ('with', 'IN'),\n",
       " ('quarantine', 'NN'),\n",
       " ('in', 'IN'),\n",
       " ('effect', 'NN')]"
      ]
     },
     "execution_count": 89,
     "metadata": {},
     "output_type": "execute_result"
    }
   ],
   "source": [
    "wiki.tags"
   ]
  },
  {
   "cell_type": "code",
   "execution_count": 90,
   "metadata": {},
   "outputs": [
    {
     "data": {
      "text/plain": [
       "Sentiment(polarity=0.0, subjectivity=0.0)"
      ]
     },
     "execution_count": 90,
     "metadata": {},
     "output_type": "execute_result"
    }
   ],
   "source": [
    "wiki.sentiment"
   ]
  },
  {
   "cell_type": "code",
   "execution_count": 93,
   "metadata": {},
   "outputs": [
    {
     "data": {
      "text/plain": [
       "WordList([])"
      ]
     },
     "execution_count": 93,
     "metadata": {},
     "output_type": "execute_result"
    }
   ],
   "source": [
    "wiki.noun_phrases"
   ]
  },
  {
   "cell_type": "code",
   "execution_count": 95,
   "metadata": {},
   "outputs": [],
   "source": [
    "temp2 = TextBlob(\"trump fails america every single day, trump knew covid19\")"
   ]
  },
  {
   "cell_type": "code",
   "execution_count": 96,
   "metadata": {},
   "outputs": [
    {
     "data": {
      "text/plain": [
       "[('trump', 'NN'),\n",
       " ('fails', 'NNS'),\n",
       " ('america', 'VBP'),\n",
       " ('every', 'DT'),\n",
       " ('single', 'JJ'),\n",
       " ('day', 'NN'),\n",
       " ('trump', 'VB'),\n",
       " ('knew', 'VBD'),\n",
       " ('covid19', 'NN')]"
      ]
     },
     "execution_count": 96,
     "metadata": {},
     "output_type": "execute_result"
    }
   ],
   "source": [
    "temp2.tags"
   ]
  },
  {
   "cell_type": "code",
   "execution_count": 97,
   "metadata": {},
   "outputs": [
    {
     "data": {
      "text/plain": [
       "Sentiment(polarity=-0.2857142857142857, subjectivity=0.2571428571428571)"
      ]
     },
     "execution_count": 97,
     "metadata": {},
     "output_type": "execute_result"
    }
   ],
   "source": [
    "temp2.sentiment"
   ]
  },
  {
   "cell_type": "code",
   "execution_count": 100,
   "metadata": {},
   "outputs": [
    {
     "data": {
      "text/plain": [
       "[Sentence(\"trump fails america every single day, trump knew covid19\")]"
      ]
     },
     "execution_count": 100,
     "metadata": {},
     "output_type": "execute_result"
    }
   ],
   "source": [
    "temp2.sentences"
   ]
  },
  {
   "cell_type": "code",
   "execution_count": 118,
   "metadata": {},
   "outputs": [],
   "source": [
    "\n",
    "from textblob.np_extractors import ConllExtractor\n",
    "extractor = ConllExtractor()"
   ]
  },
  {
   "cell_type": "code",
   "execution_count": 119,
   "metadata": {},
   "outputs": [
    {
     "data": {
      "text/plain": [
       "-0.2857142857142857"
      ]
     },
     "execution_count": 119,
     "metadata": {},
     "output_type": "execute_result"
    }
   ],
   "source": [
    "\n",
    "TextBlob(\"trump fails america every single day, trump knew covid19\"\n",
    "         , np_extractor=extractor).sentiment.polarity"
   ]
  },
  {
   "cell_type": "code",
   "execution_count": 127,
   "metadata": {},
   "outputs": [],
   "source": [
    "# from textblob.sentiments import NaiveBayesAnalyzer\n",
    "# from textblob.classifiers import NaiveBayesClassifier"
   ]
  },
  {
   "cell_type": "code",
   "execution_count": 156,
   "metadata": {},
   "outputs": [
    {
     "data": {
      "text/plain": [
       "{'neg': 0.643, 'neu': 0.357, 'pos': 0.0, 'compound': -0.5574}"
      ]
     },
     "execution_count": 156,
     "metadata": {},
     "output_type": "execute_result"
    }
   ],
   "source": [
    "from nltk.sentiment.vader import SentimentIntensityAnalyzer\n",
    "analyzer = SentimentIntensityAnalyzer()\n",
    "analyzer.polarity_scores(\"many people died\")"
   ]
  },
  {
   "cell_type": "markdown",
   "metadata": {},
   "source": [
    "https://pypi.org/project/COVID19Py/"
   ]
  }
 ],
 "metadata": {
  "kernelspec": {
   "display_name": "Python 3",
   "language": "python",
   "name": "python3"
  },
  "language_info": {
   "codemirror_mode": {
    "name": "ipython",
    "version": 3
   },
   "file_extension": ".py",
   "mimetype": "text/x-python",
   "name": "python",
   "nbconvert_exporter": "python",
   "pygments_lexer": "ipython3",
   "version": "3.7.4"
  }
 },
 "nbformat": 4,
 "nbformat_minor": 4
}
