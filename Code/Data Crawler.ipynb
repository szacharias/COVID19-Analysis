{
 "cells": [
  {
   "cell_type": "code",
   "execution_count": 139,
   "metadata": {},
   "outputs": [],
   "source": [
    "import requests\n",
    "import json\n",
    "import time\n",
    "import pandas as pd\n",
    "import numpy as np\n",
    "from WebCrawlerLibrary import gen_query_url, parse_response, extract_data_from_api\n",
    "from datetime import datetime, timedelta"
   ]
  },
  {
   "cell_type": "code",
   "execution_count": 141,
   "metadata": {},
   "outputs": [],
   "source": [
    "# Design dataframe\n",
    "API_COLUMNS = [\"Title\", \"Description\", \"NewsURL\", \"PublishedTime\", \"SourceName\" , \"SourceURL\"]\n",
    "\n",
    "api_content = pd.read_csv(\"../Data/NewsContent.csv\", index_col=[0])"
   ]
  },
  {
   "cell_type": "code",
   "execution_count": 144,
   "metadata": {},
   "outputs": [
    {
     "name": "stdout",
     "output_type": "stream",
     "text": [
      "https://gnews.io/api/v3/search?q=covid19|coronavirus us&token=837a1cfd8cff3793dca10c2b9478dcce&lang=en&country=us&mindate=2020-02-01&maxdate=2020-02-02&in=title\n"
     ]
    },
    {
     "ename": "KeyError",
     "evalue": "'articles'",
     "output_type": "error",
     "traceback": [
      "\u001b[0;31m---------------------------------------------------------------------------\u001b[0m",
      "\u001b[0;31mKeyError\u001b[0m                                  Traceback (most recent call last)",
      "\u001b[0;32m<ipython-input-144-9828b0b830cd>\u001b[0m in \u001b[0;36m<module>\u001b[0;34m\u001b[0m\n\u001b[1;32m     27\u001b[0m     \u001b[0;31m# Parse content\u001b[0m\u001b[0;34m\u001b[0m\u001b[0;34m\u001b[0m\u001b[0;34m\u001b[0m\u001b[0m\n\u001b[1;32m     28\u001b[0m     \u001b[0;32mif\u001b[0m \u001b[0mstatus_code\u001b[0m \u001b[0;34m==\u001b[0m \u001b[0;36m200\u001b[0m \u001b[0;32mand\u001b[0m \u001b[0moutput_content\u001b[0m \u001b[0;34m!=\u001b[0m \u001b[0;34m\"no returns\"\u001b[0m\u001b[0;34m:\u001b[0m\u001b[0;34m\u001b[0m\u001b[0;34m\u001b[0m\u001b[0m\n\u001b[0;32m---> 29\u001b[0;31m         \u001b[0mnew_api_data\u001b[0m \u001b[0;34m=\u001b[0m \u001b[0mextract_data_from_api\u001b[0m\u001b[0;34m(\u001b[0m\u001b[0moutput_content\u001b[0m\u001b[0;34m)\u001b[0m\u001b[0;34m\u001b[0m\u001b[0;34m\u001b[0m\u001b[0m\n\u001b[0m\u001b[1;32m     30\u001b[0m \u001b[0;34m\u001b[0m\u001b[0m\n\u001b[1;32m     31\u001b[0m     \u001b[0;32mif\u001b[0m \u001b[0mcounter\u001b[0m \u001b[0;34m==\u001b[0m \u001b[0;36m0\u001b[0m \u001b[0;32mand\u001b[0m \u001b[0mfirst_time\u001b[0m \u001b[0;34m==\u001b[0m \u001b[0;32mTrue\u001b[0m\u001b[0;34m:\u001b[0m\u001b[0;34m\u001b[0m\u001b[0;34m\u001b[0m\u001b[0m\n",
      "\u001b[0;32m<ipython-input-134-643c3e8758fa>\u001b[0m in \u001b[0;36mextract_data_from_api\u001b[0;34m(output)\u001b[0m\n\u001b[1;32m      1\u001b[0m \u001b[0;32mdef\u001b[0m \u001b[0mextract_data_from_api\u001b[0m\u001b[0;34m(\u001b[0m\u001b[0moutput\u001b[0m\u001b[0;34m)\u001b[0m\u001b[0;34m:\u001b[0m\u001b[0;34m\u001b[0m\u001b[0;34m\u001b[0m\u001b[0m\n\u001b[1;32m      2\u001b[0m     \u001b[0mreturn_list\u001b[0m \u001b[0;34m=\u001b[0m \u001b[0;34m[\u001b[0m\u001b[0;34m]\u001b[0m\u001b[0;34m\u001b[0m\u001b[0;34m\u001b[0m\u001b[0m\n\u001b[0;32m----> 3\u001b[0;31m     \u001b[0mall_news\u001b[0m \u001b[0;34m=\u001b[0m \u001b[0moutput\u001b[0m\u001b[0;34m[\u001b[0m\u001b[0;34m\"articles\"\u001b[0m\u001b[0;34m]\u001b[0m\u001b[0;34m\u001b[0m\u001b[0;34m\u001b[0m\u001b[0m\n\u001b[0m\u001b[1;32m      4\u001b[0m     \u001b[0;32mfor\u001b[0m \u001b[0msingle_news\u001b[0m \u001b[0;32min\u001b[0m \u001b[0mall_news\u001b[0m\u001b[0;34m:\u001b[0m\u001b[0;34m\u001b[0m\u001b[0;34m\u001b[0m\u001b[0m\n\u001b[1;32m      5\u001b[0m \u001b[0;34m\u001b[0m\u001b[0m\n",
      "\u001b[0;31mKeyError\u001b[0m: 'articles'"
     ]
    }
   ],
   "source": [
    "# Process query days pipeline\n",
    "datetime_format = \"%Y-%m-%d\"\n",
    "start_date = datetime(2020,2,26)\n",
    "query_index_date = start_date \n",
    "\n",
    "status_code = 200\n",
    "counter = 0\n",
    "max_count = 100\n",
    "first_time = False\n",
    "\n",
    "\n",
    "while counter < max_count and status_code == 200 and query_index_date != datetime.now():\n",
    "    # counter does not surpass 100 queryies per day\n",
    "    # status_code is still successful\n",
    "    # index date has yet to surpass today\n",
    "    \n",
    "    # Generate URLs\n",
    "    query_index_date_next = query_index_date + timedelta(days=1)\n",
    "    url = gen_query_url(query_index_date.strftime(datetime_format), query_index_date_next.strftime(datetime_format) )\n",
    "    \n",
    "    # Parse URLs\n",
    "    response = requests.get(url)\n",
    "    \n",
    "    # get Status_code and content\n",
    "    status_code, output_content = parse_response(response)\n",
    "    \n",
    "    # Parse content\n",
    "    if status_code == 200 and output_content != \"no returns\":    \n",
    "        new_api_data = extract_data_from_api(output_content)\n",
    "    \n",
    "    if counter == 0 and first_time == True:\n",
    "        api_content = pd.DataFrame(new_api_data, columns = API_COLUMNS)\n",
    "#         print(api_content)\n",
    "    else :\n",
    "        new_api_df = pd.DataFrame(new_api_data, columns = API_COLUMNS)\n",
    "#         print(new_api_df)\n",
    "        api_content = api_content.append(new_api_df, ignore_index = True).drop_duplicates()\n",
    "    \n",
    "\n",
    "    # Post Processing conditions\n",
    "    query_index_date = query_index_date_next\n",
    "    counter += 1\n",
    "    if counter == max_count:\n",
    "        print(\"Has Reached Max Count of \" + str(counter))\n",
    "    if status_code != 200:\n",
    "        print(\"Status Code \" + str(status_code))\n",
    "    time.sleep(10)"
   ]
  },
  {
   "cell_type": "code",
   "execution_count": null,
   "metadata": {},
   "outputs": [],
   "source": [
    "api_content\n",
    "# api_content.to_csv(\"../Data/NewsContent.csv\")"
   ]
  }
 ],
 "metadata": {
  "kernelspec": {
   "display_name": "Python 3",
   "language": "python",
   "name": "python3"
  },
  "language_info": {
   "codemirror_mode": {
    "name": "ipython",
    "version": 3
   },
   "file_extension": ".py",
   "mimetype": "text/x-python",
   "name": "python",
   "nbconvert_exporter": "python",
   "pygments_lexer": "ipython3",
   "version": "3.7.4"
  }
 },
 "nbformat": 4,
 "nbformat_minor": 4
}
