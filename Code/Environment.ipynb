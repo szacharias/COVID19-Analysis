{
 "cells": [
  {
   "cell_type": "markdown",
   "metadata": {},
   "source": [
    "## Verifying the enviroment of my machine and it's settings"
   ]
  },
  {
   "cell_type": "code",
   "execution_count": 1,
   "metadata": {},
   "outputs": [],
   "source": [
    "import sys\n",
    "import platform\n",
    "import os"
   ]
  },
  {
   "cell_type": "code",
   "execution_count": 2,
   "metadata": {},
   "outputs": [
    {
     "name": "stdout",
     "output_type": "stream",
     "text": [
      "Python Version : 3.7.4 (default, Aug 13 2019, 20:35:49) \n",
      "[GCC 7.3.0]\n",
      "Operating System Version : posix.uname_result(sysname='Linux', nodename='mavericku-ThinkPad-13-2nd-Gen', release='5.4.0-42-generic', version='#46-Ubuntu SMP Fri Jul 10 00:24:02 UTC 2020', machine='x86_64')\n"
     ]
    }
   ],
   "source": [
    "print(\"Python Version : \" + sys.version)\n",
    "print(\"Operating System Version : \" + str(os.uname()))"
   ]
  },
  {
   "cell_type": "code",
   "execution_count": 3,
   "metadata": {},
   "outputs": [],
   "source": [
    "# ## I dont think this works\n",
    "# try:\n",
    "#     import nltk\n",
    "# except ModuleNotFoundError as err: \n",
    "#     print(err)\n",
    "#     !pip install nltk\n",
    "#     nltk.download('punkt')\n",
    "#     nltk.download('averaged_perceptron_tagger')\n",
    "#     nltk.download('punkt')\n",
    "#     nltk.download('brown')\n",
    "#     nltk.download('wordnet')\n",
    "#     nltk.download('movie_reviews')\n",
    "#     nltk.download('vader_lexicon')"
   ]
  }
 ],
 "metadata": {
  "kernelspec": {
   "display_name": "Python 3",
   "language": "python",
   "name": "python3"
  },
  "language_info": {
   "codemirror_mode": {
    "name": "ipython",
    "version": 3
   },
   "file_extension": ".py",
   "mimetype": "text/x-python",
   "name": "python",
   "nbconvert_exporter": "python",
   "pygments_lexer": "ipython3",
   "version": "3.7.4"
  }
 },
 "nbformat": 4,
 "nbformat_minor": 4
}
