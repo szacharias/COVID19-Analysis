{
 "cells": [
  {
   "cell_type": "code",
   "execution_count": 1,
   "metadata": {},
   "outputs": [],
   "source": [
    "import pandas\n",
    "import seaborn\n",
    "import sklearn\n",
    "import functions as covid_lib\n",
    "from random import random\n",
    "from matplotlib import pyplot as plt\n",
    "\n",
    "import dash\n",
    "import dash_core_components as dcc\n",
    "import dash_html_components as html\n",
    "import plotly.graph_objects as go\n",
    "from dash.dependencies import Input, Output \n",
    "\n",
    "import statsmodels.api as sm\n",
    "from statsmodels.graphics.tsaplots import plot_acf, plot_pacf\n",
    "from statsmodels.tsa.statespace.sarimax import SARIMAX"
   ]
  },
  {
   "cell_type": "markdown",
   "metadata": {},
   "source": [
    "---\n",
    "## 1st Dataset : John Hopkins Data"
   ]
  },
  {
   "cell_type": "code",
   "execution_count": 2,
   "metadata": {},
   "outputs": [
    {
     "data": {
      "application/javascript": [
       "\n",
       "        if (window._pyforest_update_imports_cell) { window._pyforest_update_imports_cell('import pandas as pd'); }\n",
       "    "
      ],
      "text/plain": [
       "<IPython.core.display.Javascript object>"
      ]
     },
     "metadata": {},
     "output_type": "display_data"
    },
    {
     "data": {
      "application/javascript": [
       "\n",
       "        if (window._pyforest_update_imports_cell) { window._pyforest_update_imports_cell('import pandas as pd'); }\n",
       "    "
      ],
      "text/plain": [
       "<IPython.core.display.Javascript object>"
      ]
     },
     "metadata": {},
     "output_type": "display_data"
    },
    {
     "data": {
      "application/javascript": [
       "\n",
       "        if (window._pyforest_update_imports_cell) { window._pyforest_update_imports_cell('import pandas as pd'); }\n",
       "    "
      ],
      "text/plain": [
       "<IPython.core.display.Javascript object>"
      ]
     },
     "metadata": {},
     "output_type": "display_data"
    }
   ],
   "source": [
    "## John Hopkins Center for Systems Science and Engineer Data Base URL\n",
    "## Contains timeseries data\n",
    "## This set of data is updated daily\n",
    "baseURL = \"https://raw.githubusercontent.com/CSSEGISandData/COVID-19/master/csse_covid_19_data/csse_covid_19_time_series/\"\n",
    "\n",
    "cumulated_confirmed_url = baseURL + \"time_series_covid19_confirmed_global.csv\"\n",
    "cumulated_deaths_url    = baseURL + \"time_series_covid19_deaths_global.csv\"\n",
    "cumulated_recovered_url = baseURL + \"time_series_covid19_recovered_global.csv\"\n",
    "\n",
    "cumulated_confirmed     = pd.read_csv(cumulated_confirmed_url)\n",
    "cumulated_deaths        = pd.read_csv(cumulated_deaths_url)\n",
    "cumulated_recovered     = pd.read_csv(cumulated_recovered_url)\n",
    "\n",
    "## Processed Dataset\n",
    "## Combine by Country/Region\n",
    "cumulated_confirmed_country = covid_lib.df_groupby_countries(cumulated_confirmed)\n",
    "cumulated_deaths_country = covid_lib.df_groupby_countries(cumulated_deaths)\n",
    "cumulated_recovered_country = covid_lib.df_groupby_countries(cumulated_recovered)"
   ]
  },
  {
   "cell_type": "code",
   "execution_count": 3,
   "metadata": {},
   "outputs": [
    {
     "name": "stdout",
     "output_type": "stream",
     "text": [
      "Confirmed data shape : (188, 165)\n",
      "Recovered data shape : (188, 165)\n",
      "Deaths data shape : (188, 165)\n"
     ]
    }
   ],
   "source": [
    "print(\"Confirmed data shape : \" + str(cumulated_confirmed_country.shape))\n",
    "print(\"Recovered data shape : \" + str(cumulated_deaths_country.shape))\n",
    "print(\"Deaths data shape : \" + str(cumulated_recovered_country.shape))"
   ]
  },
  {
   "cell_type": "code",
   "execution_count": 4,
   "metadata": {},
   "outputs": [],
   "source": [
    "# ## To find specific instances on certain countries\n",
    "# ## Consider grouping by countries to simplify the analysis process\n",
    "# cumulated_confirmed.loc[cumulated_confirmed[\"Country/Region\"]==\"US\"].head()"
   ]
  },
  {
   "cell_type": "code",
   "execution_count": 5,
   "metadata": {},
   "outputs": [
    {
     "data": {
      "text/html": [
       "<div>\n",
       "<style scoped>\n",
       "    .dataframe tbody tr th:only-of-type {\n",
       "        vertical-align: middle;\n",
       "    }\n",
       "\n",
       "    .dataframe tbody tr th {\n",
       "        vertical-align: top;\n",
       "    }\n",
       "\n",
       "    .dataframe thead th {\n",
       "        text-align: right;\n",
       "    }\n",
       "</style>\n",
       "<table border=\"1\" class=\"dataframe\">\n",
       "  <thead>\n",
       "    <tr style=\"text-align: right;\">\n",
       "      <th></th>\n",
       "      <th>Country/Region</th>\n",
       "      <th>Lat</th>\n",
       "      <th>Long</th>\n",
       "      <th>1/22/20</th>\n",
       "      <th>1/23/20</th>\n",
       "      <th>1/24/20</th>\n",
       "      <th>1/25/20</th>\n",
       "      <th>1/26/20</th>\n",
       "      <th>1/27/20</th>\n",
       "      <th>1/28/20</th>\n",
       "      <th>...</th>\n",
       "      <th>6/22/20</th>\n",
       "      <th>6/23/20</th>\n",
       "      <th>6/24/20</th>\n",
       "      <th>6/25/20</th>\n",
       "      <th>6/26/20</th>\n",
       "      <th>6/27/20</th>\n",
       "      <th>6/28/20</th>\n",
       "      <th>6/29/20</th>\n",
       "      <th>6/30/20</th>\n",
       "      <th>7/1/20</th>\n",
       "    </tr>\n",
       "  </thead>\n",
       "  <tbody>\n",
       "    <tr>\n",
       "      <th>0</th>\n",
       "      <td>Afghanistan</td>\n",
       "      <td>33.0000</td>\n",
       "      <td>65.0000</td>\n",
       "      <td>0</td>\n",
       "      <td>0</td>\n",
       "      <td>0</td>\n",
       "      <td>0</td>\n",
       "      <td>0</td>\n",
       "      <td>0</td>\n",
       "      <td>0</td>\n",
       "      <td>...</td>\n",
       "      <td>29157</td>\n",
       "      <td>29481</td>\n",
       "      <td>29640</td>\n",
       "      <td>30175</td>\n",
       "      <td>30451</td>\n",
       "      <td>30616</td>\n",
       "      <td>30967</td>\n",
       "      <td>31238</td>\n",
       "      <td>31517</td>\n",
       "      <td>31836</td>\n",
       "    </tr>\n",
       "    <tr>\n",
       "      <th>1</th>\n",
       "      <td>Albania</td>\n",
       "      <td>41.1533</td>\n",
       "      <td>20.1683</td>\n",
       "      <td>0</td>\n",
       "      <td>0</td>\n",
       "      <td>0</td>\n",
       "      <td>0</td>\n",
       "      <td>0</td>\n",
       "      <td>0</td>\n",
       "      <td>0</td>\n",
       "      <td>...</td>\n",
       "      <td>1995</td>\n",
       "      <td>2047</td>\n",
       "      <td>2114</td>\n",
       "      <td>2192</td>\n",
       "      <td>2269</td>\n",
       "      <td>2330</td>\n",
       "      <td>2402</td>\n",
       "      <td>2466</td>\n",
       "      <td>2535</td>\n",
       "      <td>2580</td>\n",
       "    </tr>\n",
       "    <tr>\n",
       "      <th>2</th>\n",
       "      <td>Algeria</td>\n",
       "      <td>28.0339</td>\n",
       "      <td>1.6596</td>\n",
       "      <td>0</td>\n",
       "      <td>0</td>\n",
       "      <td>0</td>\n",
       "      <td>0</td>\n",
       "      <td>0</td>\n",
       "      <td>0</td>\n",
       "      <td>0</td>\n",
       "      <td>...</td>\n",
       "      <td>11920</td>\n",
       "      <td>12076</td>\n",
       "      <td>12248</td>\n",
       "      <td>12445</td>\n",
       "      <td>12685</td>\n",
       "      <td>12968</td>\n",
       "      <td>13273</td>\n",
       "      <td>13571</td>\n",
       "      <td>13907</td>\n",
       "      <td>14272</td>\n",
       "    </tr>\n",
       "    <tr>\n",
       "      <th>3</th>\n",
       "      <td>Andorra</td>\n",
       "      <td>42.5063</td>\n",
       "      <td>1.5218</td>\n",
       "      <td>0</td>\n",
       "      <td>0</td>\n",
       "      <td>0</td>\n",
       "      <td>0</td>\n",
       "      <td>0</td>\n",
       "      <td>0</td>\n",
       "      <td>0</td>\n",
       "      <td>...</td>\n",
       "      <td>855</td>\n",
       "      <td>855</td>\n",
       "      <td>855</td>\n",
       "      <td>855</td>\n",
       "      <td>855</td>\n",
       "      <td>855</td>\n",
       "      <td>855</td>\n",
       "      <td>855</td>\n",
       "      <td>855</td>\n",
       "      <td>855</td>\n",
       "    </tr>\n",
       "    <tr>\n",
       "      <th>4</th>\n",
       "      <td>Angola</td>\n",
       "      <td>-11.2027</td>\n",
       "      <td>17.8739</td>\n",
       "      <td>0</td>\n",
       "      <td>0</td>\n",
       "      <td>0</td>\n",
       "      <td>0</td>\n",
       "      <td>0</td>\n",
       "      <td>0</td>\n",
       "      <td>0</td>\n",
       "      <td>...</td>\n",
       "      <td>186</td>\n",
       "      <td>189</td>\n",
       "      <td>197</td>\n",
       "      <td>212</td>\n",
       "      <td>212</td>\n",
       "      <td>259</td>\n",
       "      <td>267</td>\n",
       "      <td>276</td>\n",
       "      <td>284</td>\n",
       "      <td>291</td>\n",
       "    </tr>\n",
       "  </tbody>\n",
       "</table>\n",
       "<p>5 rows × 165 columns</p>\n",
       "</div>"
      ],
      "text/plain": [
       "  Country/Region      Lat     Long  1/22/20  1/23/20  1/24/20  1/25/20  \\\n",
       "0    Afghanistan  33.0000  65.0000        0        0        0        0   \n",
       "1        Albania  41.1533  20.1683        0        0        0        0   \n",
       "2        Algeria  28.0339   1.6596        0        0        0        0   \n",
       "3        Andorra  42.5063   1.5218        0        0        0        0   \n",
       "4         Angola -11.2027  17.8739        0        0        0        0   \n",
       "\n",
       "   1/26/20  1/27/20  1/28/20  ...  6/22/20  6/23/20  6/24/20  6/25/20  \\\n",
       "0        0        0        0  ...    29157    29481    29640    30175   \n",
       "1        0        0        0  ...     1995     2047     2114     2192   \n",
       "2        0        0        0  ...    11920    12076    12248    12445   \n",
       "3        0        0        0  ...      855      855      855      855   \n",
       "4        0        0        0  ...      186      189      197      212   \n",
       "\n",
       "   6/26/20  6/27/20  6/28/20  6/29/20  6/30/20  7/1/20  \n",
       "0    30451    30616    30967    31238    31517   31836  \n",
       "1     2269     2330     2402     2466     2535    2580  \n",
       "2    12685    12968    13273    13571    13907   14272  \n",
       "3      855      855      855      855      855     855  \n",
       "4      212      259      267      276      284     291  \n",
       "\n",
       "[5 rows x 165 columns]"
      ]
     },
     "execution_count": 5,
     "metadata": {},
     "output_type": "execute_result"
    }
   ],
   "source": [
    "cumulated_confirmed_country.head()"
   ]
  },
  {
   "cell_type": "code",
   "execution_count": 6,
   "metadata": {},
   "outputs": [],
   "source": [
    "unique_countries = cumulated_confirmed_country[\"Country/Region\"].unique()"
   ]
  },
  {
   "cell_type": "code",
   "execution_count": 7,
   "metadata": {},
   "outputs": [
    {
     "data": {
      "text/html": [
       "<div>\n",
       "<style scoped>\n",
       "    .dataframe tbody tr th:only-of-type {\n",
       "        vertical-align: middle;\n",
       "    }\n",
       "\n",
       "    .dataframe tbody tr th {\n",
       "        vertical-align: top;\n",
       "    }\n",
       "\n",
       "    .dataframe thead th {\n",
       "        text-align: right;\n",
       "    }\n",
       "</style>\n",
       "<table border=\"1\" class=\"dataframe\">\n",
       "  <thead>\n",
       "    <tr style=\"text-align: right;\">\n",
       "      <th></th>\n",
       "      <th>Country/Region</th>\n",
       "      <th>Lat</th>\n",
       "      <th>Long</th>\n",
       "      <th>1/22/20</th>\n",
       "      <th>1/23/20</th>\n",
       "      <th>1/24/20</th>\n",
       "      <th>1/25/20</th>\n",
       "      <th>1/26/20</th>\n",
       "      <th>1/27/20</th>\n",
       "      <th>1/28/20</th>\n",
       "      <th>...</th>\n",
       "      <th>6/22/20</th>\n",
       "      <th>6/23/20</th>\n",
       "      <th>6/24/20</th>\n",
       "      <th>6/25/20</th>\n",
       "      <th>6/26/20</th>\n",
       "      <th>6/27/20</th>\n",
       "      <th>6/28/20</th>\n",
       "      <th>6/29/20</th>\n",
       "      <th>6/30/20</th>\n",
       "      <th>7/1/20</th>\n",
       "    </tr>\n",
       "  </thead>\n",
       "  <tbody>\n",
       "    <tr>\n",
       "      <th>165</th>\n",
       "      <td>Taiwan*</td>\n",
       "      <td>23.7</td>\n",
       "      <td>121.0</td>\n",
       "      <td>0</td>\n",
       "      <td>0</td>\n",
       "      <td>0</td>\n",
       "      <td>0</td>\n",
       "      <td>0</td>\n",
       "      <td>0</td>\n",
       "      <td>0</td>\n",
       "      <td>...</td>\n",
       "      <td>7</td>\n",
       "      <td>7</td>\n",
       "      <td>7</td>\n",
       "      <td>7</td>\n",
       "      <td>7</td>\n",
       "      <td>7</td>\n",
       "      <td>7</td>\n",
       "      <td>7</td>\n",
       "      <td>7</td>\n",
       "      <td>7</td>\n",
       "    </tr>\n",
       "  </tbody>\n",
       "</table>\n",
       "<p>1 rows × 165 columns</p>\n",
       "</div>"
      ],
      "text/plain": [
       "    Country/Region   Lat   Long  1/22/20  1/23/20  1/24/20  1/25/20  1/26/20  \\\n",
       "165        Taiwan*  23.7  121.0        0        0        0        0        0   \n",
       "\n",
       "     1/27/20  1/28/20  ...  6/22/20  6/23/20  6/24/20  6/25/20  6/26/20  \\\n",
       "165        0        0  ...        7        7        7        7        7   \n",
       "\n",
       "     6/27/20  6/28/20  6/29/20  6/30/20  7/1/20  \n",
       "165        7        7        7        7       7  \n",
       "\n",
       "[1 rows x 165 columns]"
      ]
     },
     "execution_count": 7,
     "metadata": {},
     "output_type": "execute_result"
    }
   ],
   "source": [
    "cumulated_deaths_country[cumulated_deaths_country[\"Country/Region\"]==\"Taiwan*\"]\n"
   ]
  },
  {
   "cell_type": "code",
   "execution_count": 8,
   "metadata": {},
   "outputs": [],
   "source": [
    "## Call this only if you wanna wait forever\n",
    "proceed = False\n",
    "if proceed:\n",
    "    for country in unique_countries:\n",
    "        covid_lib.plt_all_cases_increase_cases(country, cumulated_confirmed_country  )"
   ]
  },
  {
   "cell_type": "code",
   "execution_count": 9,
   "metadata": {},
   "outputs": [],
   "source": [
    "# US_confirmed = cumulated_confirmed.loc[cumulated_confirmed[\"Country/Region\"]==\"US\"].head()\n",
    "# US_confirmed\n",
    "\n",
    "# all_cases, increased_case = covid_lib.df_to_timeseries(US_confirmed, 7)"
   ]
  },
  {
   "cell_type": "code",
   "execution_count": 10,
   "metadata": {},
   "outputs": [],
   "source": [
    "# plot_acf(temp_data, lags = 20 , alpha = 0.05) \n",
    "# plot_acf(increased_case.dropna())\n",
    "# plot_pacf(increased_case.dropna())"
   ]
  },
  {
   "cell_type": "code",
   "execution_count": 21,
   "metadata": {},
   "outputs": [
    {
     "data": {
      "text/plain": [
       "2020-07-02    0.999998\n",
       "2020-07-03    0.999997\n",
       "2020-07-04    0.999996\n",
       "2020-07-05    0.999995\n",
       "2020-07-06    0.999994\n",
       "                ...   \n",
       "2020-10-06    0.999886\n",
       "2020-10-07    0.999885\n",
       "2020-10-08    0.999884\n",
       "2020-10-09    0.999883\n",
       "2020-10-10    0.999882\n",
       "Freq: D, Length: 101, dtype: float64"
      ]
     },
     "execution_count": 21,
     "metadata": {},
     "output_type": "execute_result"
    }
   ],
   "source": [
    "yhat\n"
   ]
  },
  {
   "cell_type": "code",
   "execution_count": 53,
   "metadata": {},
   "outputs": [
    {
     "data": {
      "text/plain": [
       "array([447.00011854, 447.00017348, 447.00025058, 447.00032103,\n",
       "       447.00039333, 447.00046514, 447.00053707, 447.00060897,\n",
       "       447.00068088, 447.00075279, 447.0008247 ])"
      ]
     },
     "execution_count": 53,
     "metadata": {},
     "output_type": "execute_result"
    }
   ],
   "source": [
    "yhat "
   ]
  },
  {
   "cell_type": "code",
   "execution_count": 50,
   "metadata": {},
   "outputs": [
    {
     "name": "stdout",
     "output_type": "stream",
     "text": [
      "[447.00011854 447.00017348 447.00025058 447.00032103 447.00039333\n",
      " 447.00046514 447.00053707 447.00060897 447.00068088 447.00075279\n",
      " 447.0008247 ]\n"
     ]
    },
    {
     "data": {
      "application/javascript": [
       "\n",
       "        if (window._pyforest_update_imports_cell) { window._pyforest_update_imports_cell('import numpy as np\\nimport pandas as pd'); }\n",
       "    "
      ],
      "text/plain": [
       "<IPython.core.display.Javascript object>"
      ]
     },
     "metadata": {},
     "output_type": "display_data"
    },
    {
     "name": "stdout",
     "output_type": "stream",
     "text": [
      "[  1.           1.           3.           3.           4.\n",
      "   5.           8.           8.           9.          10.\n",
      "  10.          10.          10.          11.          11.\n",
      "  16.          16.          17.          18.          18.\n",
      "  18.          18.          18.          18.          18.\n",
      "  20.          22.          22.          23.          24.\n",
      "  26.          26.          28.          30.          31.\n",
      "  32.          32.          34.          39.          40.\n",
      "  41.          42.          42.          44.          45.\n",
      "  45.          45.          45.          47.          48.\n",
      "  49.          50.          53.          59.          67.\n",
      "  77.         100.         108.         135.         153.\n",
      " 169.         195.         215.         235.         252.\n",
      " 267.         283.         298.         306.         322.\n",
      " 329.         339.         348.         355.         363.\n",
      " 373.         376.         379.         380.         382.\n",
      " 385.         388.         393.         393.         395.\n",
      " 395.         395.         398.         420.         422.\n",
      " 425.         426.         427.         428.         429.\n",
      " 429.         429.         429.         429.         429.\n",
      " 429.         432.         436.         438.         438.\n",
      " 439.         440.         440.         440.         440.\n",
      " 440.         440.         440.         440.         440.\n",
      " 440.         440.         440.         440.         440.\n",
      " 440.         441.         441.         441.         441.\n",
      " 441.         441.         441.         442.         442.\n",
      " 442.         443.         443.         443.         443.\n",
      " 443.         443.         443.         443.         443.\n",
      " 443.         443.         443.         443.         443.\n",
      " 445.         445.         445.         446.         446.\n",
      " 446.         446.         446.         446.         446.\n",
      " 447.         447.         447.         447.         447.\n",
      " 447.         447.         447.00011854 447.00017348 447.00025058\n",
      " 447.00032103 447.00039333 447.00046514 447.00053707 447.00060897\n",
      " 447.00068088 447.00075279 447.0008247 ]\n"
     ]
    },
    {
     "data": {
      "application/javascript": [
       "\n",
       "        if (window._pyforest_update_imports_cell) { window._pyforest_update_imports_cell('import numpy as np\\nimport pandas as pd'); }\n",
       "    "
      ],
      "text/plain": [
       "<IPython.core.display.Javascript object>"
      ]
     },
     "metadata": {},
     "output_type": "display_data"
    }
   ],
   "source": [
    "query_country = \"Taiwan*\"\n",
    "query_confirmed = cumulated_confirmed.loc[cumulated_confirmed[\"Country/Region\"]==query_country]\n",
    "queried_total_cases, queried_increased_case = covid_lib.df_to_timeseries(query_confirmed, 1)\n",
    "model = SARIMAX(queried_total_cases, order=(1, 1, 1), seasonal_order=(1, 1, 1, 1))\n",
    "model_fit = model.fit(disp=False)\n",
    "yhat = model_fit.predict(len(queried_total_cases), len(queried_total_cases)+10)\n",
    "print(yhat)\n",
    "plot_all( queried_total_cases, queried_increased_case, yhat , query_country )"
   ]
  },
  {
   "cell_type": "code",
   "execution_count": 48,
   "metadata": {},
   "outputs": [],
   "source": [
    "def plot_all( total_cases, increased_case, yhat, country = \"Taiwan\"):\n",
    "    \n",
    "### Plotting\n",
    "\n",
    "#     predicted_cases = np.concatenate((total_cases[:,0], yhat + total_cases[-1,0]))\n",
    "    predicted_cases = np.concatenate((total_cases[:,0],  yhat))\n",
    "    print(predicted_cases)\n",
    "    figure = plt.figure(figsize=(10,10))\n",
    "\n",
    "    plt.subplot(2,2,1)\n",
    "    plt.title(\"Original Total Cases\")\n",
    "    plt.plot(total_cases)\n",
    "    \n",
    "    plt.subplot(2,2,2)\n",
    "    plt.plot(increased_case.dropna())\n",
    "    plt.title(\"Increased case\")\n",
    "    plt.xticks(rotation=45)\n",
    "    plt.xticks(np.arange(0, len(increased_case.dropna()), (len(increased_case.dropna()) / 7))) \n",
    "    \n",
    "    plt.subplot(2,2,3)\n",
    "    plt.plot(predicted_cases)\n",
    "    plt.title(\"Total Cases and forcasted\")\n",
    "\n",
    "\n",
    "    plt.subplot(2,2,4)\n",
    "    plt.plot(yhat)\n",
    "    plt.xticks(rotation=90)\n",
    "    plt.title(\"yhat\")\n",
    "    \n",
    "    plt.savefig(\"img/\" + str(country)+ \"_all_charts.png\",  bbox_inches='tight')\n",
    "    plt.close('all')"
   ]
  },
  {
   "cell_type": "markdown",
   "metadata": {},
   "source": [
    "### Taiwan Analysis"
   ]
  },
  {
   "cell_type": "code",
   "execution_count": 12,
   "metadata": {},
   "outputs": [],
   "source": [
    "TW_confirmed = cumulated_confirmed.loc[cumulated_confirmed[\"Country/Region\"]==\"Taiwan*\"].head()\n",
    "total_cases, increased_case = covid_lib.df_to_timeseries(TW_confirmed, 7)\n"
   ]
  },
  {
   "cell_type": "code",
   "execution_count": 13,
   "metadata": {},
   "outputs": [],
   "source": [
    "### TODO : I doing SARIMA on the total or the increase index?"
   ]
  },
  {
   "cell_type": "markdown",
   "metadata": {},
   "source": [
    "---"
   ]
  },
  {
   "cell_type": "markdown",
   "metadata": {},
   "source": [
    "### Changes in total Cases"
   ]
  },
  {
   "cell_type": "code",
   "execution_count": 14,
   "metadata": {},
   "outputs": [
    {
     "name": "stdout",
     "output_type": "stream",
     "text": [
      "[447.00011854 447.00017348 447.00025058 447.00032103 447.00039333\n",
      " 447.00046514 447.00053707 447.00060897 447.00068088 447.00075279\n",
      " 447.0008247  447.00089661 447.00096852 447.00104043 447.00111233\n",
      " 447.00118424 447.00125615 447.00132806 447.00139997 447.00147188\n",
      " 447.00154379 447.00161569 447.0016876  447.00175951 447.00183142\n",
      " 447.00190333 447.00197524 447.00204715 447.00211905 447.00219096\n",
      " 447.00226287 447.00233478 447.00240669 447.0024786  447.00255051\n",
      " 447.00262241 447.00269432 447.00276623 447.00283814 447.00291005\n",
      " 447.00298196 447.00305387 447.00312577 447.00319768 447.00326959\n",
      " 447.0033415  447.00341341 447.00348532 447.00355723 447.00362913\n",
      " 447.00370104 447.00377295 447.00384486 447.00391677 447.00398868\n",
      " 447.00406059 447.0041325  447.0042044  447.00427631 447.00434822\n",
      " 447.00442013 447.00449204 447.00456395 447.00463586 447.00470776\n",
      " 447.00477967 447.00485158 447.00492349 447.0049954  447.00506731\n",
      " 447.00513922 447.00521112 447.00528303 447.00535494 447.00542685\n",
      " 447.00549876 447.00557067 447.00564258 447.00571448 447.00578639\n",
      " 447.0058583  447.00593021 447.00600212 447.00607403 447.00614594\n",
      " 447.00621784 447.00628975 447.00636166 447.00643357 447.00650548\n",
      " 447.00657739 447.0066493  447.0067212  447.00679311 447.00686502\n",
      " 447.00693693 447.00700884 447.00708075 447.00715266 447.00722456\n",
      " 447.00729647]\n"
     ]
    }
   ],
   "source": [
    "\n",
    "# SARIMA example\n",
    "model = SARIMAX(total_cases, order=(1, 1, 1), seasonal_order=(1, 1, 1, 1))\n",
    "model_fit = model.fit(disp=True)\n",
    "yhat = model_fit.predict(len(total_cases), len(total_cases)+100)\n",
    "print(yhat)"
   ]
  },
  {
   "cell_type": "markdown",
   "metadata": {},
   "source": [
    "### Changes in increase curve"
   ]
  },
  {
   "cell_type": "code",
   "execution_count": 15,
   "metadata": {},
   "outputs": [
    {
     "name": "stdout",
     "output_type": "stream",
     "text": [
      "2020-07-02    0.999998\n",
      "2020-07-03    0.999997\n",
      "2020-07-04    0.999996\n",
      "2020-07-05    0.999995\n",
      "2020-07-06    0.999994\n",
      "                ...   \n",
      "2020-10-06    0.999886\n",
      "2020-10-07    0.999885\n",
      "2020-10-08    0.999884\n",
      "2020-10-09    0.999883\n",
      "2020-10-10    0.999882\n",
      "Freq: D, Length: 101, dtype: float64\n"
     ]
    },
    {
     "name": "stderr",
     "output_type": "stream",
     "text": [
      "/home/mavericku/anaconda3/lib/python3.7/site-packages/statsmodels/tsa/base/tsa_model.py:165: ValueWarning:\n",
      "\n",
      "No frequency information was provided, so inferred frequency D will be used.\n",
      "\n"
     ]
    }
   ],
   "source": [
    " \n",
    "# SARIMA example \n",
    "# contrived dataset\n",
    "# data = [x + random() for x in range(1, 100)]\n",
    "# fit model\n",
    "model = SARIMAX(increased_case.dropna(), order=(1, 1, 1), seasonal_order=(1, 1, 1, 1))\n",
    "model_fit = model.fit(disp=True)\n",
    "## Disp\n",
    "## If True, convergence information is printed. For the default l_bfgs_b solver, disp controls the frequency of the output during the iterations. disp < 0 means no output in this case.\n",
    "\n",
    "# make prediction\n",
    "yhat = model_fit.predict(len(increased_case.dropna()), len(increased_case.dropna())+100)\n",
    "print(yhat)"
   ]
  },
  {
   "cell_type": "markdown",
   "metadata": {},
   "source": [
    "---"
   ]
  },
  {
   "cell_type": "code",
   "execution_count": 16,
   "metadata": {},
   "outputs": [],
   "source": [
    "covid_lib.plot_all( total_cases, increased_case, yhat , \"Taiwan\" )"
   ]
  },
  {
   "cell_type": "code",
   "execution_count": 17,
   "metadata": {},
   "outputs": [
    {
     "data": {
      "application/javascript": [
       "\n",
       "        if (window._pyforest_update_imports_cell) { window._pyforest_update_imports_cell('import numpy as np\\nimport pandas as pd'); }\n",
       "    "
      ],
      "text/plain": [
       "<IPython.core.display.Javascript object>"
      ]
     },
     "metadata": {},
     "output_type": "display_data"
    },
    {
     "data": {
      "application/javascript": [
       "\n",
       "        if (window._pyforest_update_imports_cell) { window._pyforest_update_imports_cell('import numpy as np\\nimport pandas as pd'); }\n",
       "    "
      ],
      "text/plain": [
       "<IPython.core.display.Javascript object>"
      ]
     },
     "metadata": {},
     "output_type": "display_data"
    },
    {
     "data": {
      "text/plain": [
       "Text(0.5, 1.0, 'yhat')"
      ]
     },
     "execution_count": 17,
     "metadata": {},
     "output_type": "execute_result"
    },
    {
     "data": {
      "image/png": "[encoded data removed]",
      "text/plain": [
       "<Figure size 720x720 with 2 Axes>"
      ]
     },
     "metadata": {
      "needs_background": "light"
     },
     "output_type": "display_data"
    },
    {
     "data": {
      "image/png": "[encoded data removed]",
      "text/plain": [
       "<Figure size 720x720 with 2 Axes>"
      ]
     },
     "metadata": {
      "needs_background": "light"
     },
     "output_type": "display_data"
    }
   ],
   "source": [
    "\n",
    "### Plotting\n",
    "\n",
    "predicted_cases = np.concatenate((total_cases[:,0], yhat + total_cases[-1,0]))\n",
    "\n",
    "figure = plt.figure(figsize=(10,10))\n",
    "\n",
    "plt.subplot(2,2,1)\n",
    "plt.title(\"Original Total Cases\")\n",
    "plt.plot(total_cases)\n",
    "\n",
    "plt.subplot(2,2,2)\n",
    "plt.plot(increased_case.dropna())\n",
    "plt.title(\"Increased case\")\n",
    "plt.xticks(rotation=90)\n",
    "plt.xticks(np.arange(0, len(increased_case.dropna()), (len(increased_case.dropna()) / 10))) \n",
    "\n",
    "figure = plt.figure(figsize = (10,10))\n",
    "plt.subplot(2,2,3)\n",
    "plt.plot(predicted_cases)\n",
    "plt.title(\"Total Cases and forcasted\")\n",
    "\n",
    "\n",
    "plt.subplot(2,2,4)\n",
    "plt.plot(yhat)\n",
    "plt.xticks(rotation=90)\n",
    "plt.title(\"yhat\")\n"
   ]
  }
 ],
 "metadata": {
  "kernelspec": {
   "display_name": "Python 3",
   "language": "python",
   "name": "python3"
  },
  "language_info": {
   "codemirror_mode": {
    "name": "ipython",
    "version": 3
   },
   "file_extension": ".py",
   "mimetype": "text/x-python",
   "name": "python",
   "nbconvert_exporter": "python",
   "pygments_lexer": "ipython3",
   "version": "3.7.4"
  }
 },
 "nbformat": 4,
 "nbformat_minor": 4
}
