{
 "cells": [
  {
   "cell_type": "code",
   "execution_count": 99,
   "metadata": {},
   "outputs": [],
   "source": [
    "import pandas\n",
    "import seaborn\n",
    "import sklearn\n",
    "import functions as covid_lib\n",
    "from numpy import hstack, array\n",
    "from random import random\n",
    "from sklearn.metrics import mean_squared_error\n",
    "from matplotlib import pyplot as plt\n",
    "\n",
    "import dash\n",
    "import dash_core_components as dcc\n",
    "import dash_html_components as html\n",
    "import plotly.graph_objects as go\n",
    "from dash.dependencies import Input, Output \n",
    "\n",
    "import statsmodels.api as sm\n",
    "from statsmodels.graphics.tsaplots import plot_acf, plot_pacf\n",
    "from statsmodels.tsa.statespace.sarimax import SARIMAX\n",
    "\n",
    "from keras.models import Sequential\n",
    "from keras.layers import LSTM\n",
    "from keras.layers import Dense\n"
   ]
  },
  {
   "cell_type": "markdown",
   "metadata": {},
   "source": [
    "---\n",
    "## 1st Dataset : John Hopkins Data"
   ]
  },
  {
   "cell_type": "code",
   "execution_count": 100,
   "metadata": {},
   "outputs": [
    {
     "data": {
      "application/javascript": [
       "\n",
       "        if (window._pyforest_update_imports_cell) { window._pyforest_update_imports_cell('import numpy as np\\nimport pandas as pd'); }\n",
       "    "
      ],
      "text/plain": [
       "<IPython.core.display.Javascript object>"
      ]
     },
     "metadata": {},
     "output_type": "display_data"
    },
    {
     "data": {
      "application/javascript": [
       "\n",
       "        if (window._pyforest_update_imports_cell) { window._pyforest_update_imports_cell('import numpy as np\\nimport pandas as pd'); }\n",
       "    "
      ],
      "text/plain": [
       "<IPython.core.display.Javascript object>"
      ]
     },
     "metadata": {},
     "output_type": "display_data"
    },
    {
     "data": {
      "application/javascript": [
       "\n",
       "        if (window._pyforest_update_imports_cell) { window._pyforest_update_imports_cell('import numpy as np\\nimport pandas as pd'); }\n",
       "    "
      ],
      "text/plain": [
       "<IPython.core.display.Javascript object>"
      ]
     },
     "metadata": {},
     "output_type": "display_data"
    }
   ],
   "source": [
    "## John Hopkins Center for Systems Science and Engineer Data Base URL\n",
    "## Contains timeseries data\n",
    "## This set of data is updated daily\n",
    "baseURL = \"https://raw.githubusercontent.com/CSSEGISandData/COVID-19/master/csse_covid_19_data/csse_covid_19_time_series/\"\n",
    "\n",
    "cumulated_confirmed_url = baseURL + \"time_series_covid19_confirmed_global.csv\"\n",
    "cumulated_deaths_url    = baseURL + \"time_series_covid19_deaths_global.csv\"\n",
    "cumulated_recovered_url = baseURL + \"time_series_covid19_recovered_global.csv\"\n",
    "\n",
    "cumulated_confirmed     = pd.read_csv(cumulated_confirmed_url)\n",
    "cumulated_deaths        = pd.read_csv(cumulated_deaths_url)\n",
    "cumulated_recovered     = pd.read_csv(cumulated_recovered_url)\n",
    "\n",
    "## Processed Dataset\n",
    "## Combine by Country/Region\n",
    "cumulated_confirmed_country = covid_lib.df_groupby_countries(cumulated_confirmed)\n",
    "cumulated_deaths_country = covid_lib.df_groupby_countries(cumulated_deaths)\n",
    "cumulated_recovered_country = covid_lib.df_groupby_countries(cumulated_recovered)"
   ]
  },
  {
   "cell_type": "code",
   "execution_count": 101,
   "metadata": {},
   "outputs": [],
   "source": [
    "# US_confirmed.to_csv('cululated_confirmed.csv', index = False)"
   ]
  },
  {
   "cell_type": "code",
   "execution_count": 102,
   "metadata": {},
   "outputs": [
    {
     "name": "stdout",
     "output_type": "stream",
     "text": [
      "Confirmed data shape : (188, 201)\n",
      "Recovered data shape : (188, 201)\n",
      "Deaths data shape : (188, 201)\n"
     ]
    }
   ],
   "source": [
    "print(\"Confirmed data shape : \" + str(cumulated_confirmed_country.shape))\n",
    "print(\"Recovered data shape : \" + str(cumulated_deaths_country.shape))\n",
    "print(\"Deaths data shape : \" + str(cumulated_recovered_country.shape))"
   ]
  },
  {
   "cell_type": "code",
   "execution_count": 103,
   "metadata": {},
   "outputs": [],
   "source": [
    "# ## To find specific instances on certain countries\n",
    "# ## Consider grouping by countries to simplify the analysis process\n",
    "# cumulated_confirmed.loc[cumulated_confirmed[\"Country/Region\"]==\"US\"].head()"
   ]
  },
  {
   "cell_type": "code",
   "execution_count": 104,
   "metadata": {},
   "outputs": [
    {
     "data": {
      "text/html": [
       "<div>\n",
       "<style scoped>\n",
       "    .dataframe tbody tr th:only-of-type {\n",
       "        vertical-align: middle;\n",
       "    }\n",
       "\n",
       "    .dataframe tbody tr th {\n",
       "        vertical-align: top;\n",
       "    }\n",
       "\n",
       "    .dataframe thead th {\n",
       "        text-align: right;\n",
       "    }\n",
       "</style>\n",
       "<table border=\"1\" class=\"dataframe\">\n",
       "  <thead>\n",
       "    <tr style=\"text-align: right;\">\n",
       "      <th></th>\n",
       "      <th>Country/Region</th>\n",
       "      <th>Lat</th>\n",
       "      <th>Long</th>\n",
       "      <th>1/22/20</th>\n",
       "      <th>1/23/20</th>\n",
       "      <th>1/24/20</th>\n",
       "      <th>1/25/20</th>\n",
       "      <th>1/26/20</th>\n",
       "      <th>1/27/20</th>\n",
       "      <th>1/28/20</th>\n",
       "      <th>...</th>\n",
       "      <th>7/28/20</th>\n",
       "      <th>7/29/20</th>\n",
       "      <th>7/30/20</th>\n",
       "      <th>7/31/20</th>\n",
       "      <th>8/1/20</th>\n",
       "      <th>8/2/20</th>\n",
       "      <th>8/3/20</th>\n",
       "      <th>8/4/20</th>\n",
       "      <th>8/5/20</th>\n",
       "      <th>8/6/20</th>\n",
       "    </tr>\n",
       "  </thead>\n",
       "  <tbody>\n",
       "    <tr>\n",
       "      <th>0</th>\n",
       "      <td>Afghanistan</td>\n",
       "      <td>33.93911</td>\n",
       "      <td>67.709953</td>\n",
       "      <td>0</td>\n",
       "      <td>0</td>\n",
       "      <td>0</td>\n",
       "      <td>0</td>\n",
       "      <td>0</td>\n",
       "      <td>0</td>\n",
       "      <td>0</td>\n",
       "      <td>...</td>\n",
       "      <td>36368</td>\n",
       "      <td>36471</td>\n",
       "      <td>36542</td>\n",
       "      <td>36675</td>\n",
       "      <td>36710</td>\n",
       "      <td>36710</td>\n",
       "      <td>36747</td>\n",
       "      <td>36782</td>\n",
       "      <td>36829</td>\n",
       "      <td>36896</td>\n",
       "    </tr>\n",
       "    <tr>\n",
       "      <th>1</th>\n",
       "      <td>Albania</td>\n",
       "      <td>41.15330</td>\n",
       "      <td>20.168300</td>\n",
       "      <td>0</td>\n",
       "      <td>0</td>\n",
       "      <td>0</td>\n",
       "      <td>0</td>\n",
       "      <td>0</td>\n",
       "      <td>0</td>\n",
       "      <td>0</td>\n",
       "      <td>...</td>\n",
       "      <td>4997</td>\n",
       "      <td>5105</td>\n",
       "      <td>5197</td>\n",
       "      <td>5276</td>\n",
       "      <td>5396</td>\n",
       "      <td>5519</td>\n",
       "      <td>5620</td>\n",
       "      <td>5750</td>\n",
       "      <td>5889</td>\n",
       "      <td>6016</td>\n",
       "    </tr>\n",
       "    <tr>\n",
       "      <th>2</th>\n",
       "      <td>Algeria</td>\n",
       "      <td>28.03390</td>\n",
       "      <td>1.659600</td>\n",
       "      <td>0</td>\n",
       "      <td>0</td>\n",
       "      <td>0</td>\n",
       "      <td>0</td>\n",
       "      <td>0</td>\n",
       "      <td>0</td>\n",
       "      <td>0</td>\n",
       "      <td>...</td>\n",
       "      <td>28615</td>\n",
       "      <td>29229</td>\n",
       "      <td>29831</td>\n",
       "      <td>30394</td>\n",
       "      <td>30950</td>\n",
       "      <td>31465</td>\n",
       "      <td>31972</td>\n",
       "      <td>32504</td>\n",
       "      <td>33055</td>\n",
       "      <td>33626</td>\n",
       "    </tr>\n",
       "    <tr>\n",
       "      <th>3</th>\n",
       "      <td>Andorra</td>\n",
       "      <td>42.50630</td>\n",
       "      <td>1.521800</td>\n",
       "      <td>0</td>\n",
       "      <td>0</td>\n",
       "      <td>0</td>\n",
       "      <td>0</td>\n",
       "      <td>0</td>\n",
       "      <td>0</td>\n",
       "      <td>0</td>\n",
       "      <td>...</td>\n",
       "      <td>907</td>\n",
       "      <td>918</td>\n",
       "      <td>922</td>\n",
       "      <td>925</td>\n",
       "      <td>925</td>\n",
       "      <td>925</td>\n",
       "      <td>937</td>\n",
       "      <td>939</td>\n",
       "      <td>939</td>\n",
       "      <td>944</td>\n",
       "    </tr>\n",
       "    <tr>\n",
       "      <th>4</th>\n",
       "      <td>Angola</td>\n",
       "      <td>-11.20270</td>\n",
       "      <td>17.873900</td>\n",
       "      <td>0</td>\n",
       "      <td>0</td>\n",
       "      <td>0</td>\n",
       "      <td>0</td>\n",
       "      <td>0</td>\n",
       "      <td>0</td>\n",
       "      <td>0</td>\n",
       "      <td>...</td>\n",
       "      <td>1000</td>\n",
       "      <td>1078</td>\n",
       "      <td>1109</td>\n",
       "      <td>1148</td>\n",
       "      <td>1164</td>\n",
       "      <td>1199</td>\n",
       "      <td>1280</td>\n",
       "      <td>1344</td>\n",
       "      <td>1395</td>\n",
       "      <td>1483</td>\n",
       "    </tr>\n",
       "  </tbody>\n",
       "</table>\n",
       "<p>5 rows × 201 columns</p>\n",
       "</div>"
      ],
      "text/plain": [
       "  Country/Region       Lat       Long  1/22/20  1/23/20  1/24/20  1/25/20  \\\n",
       "0    Afghanistan  33.93911  67.709953        0        0        0        0   \n",
       "1        Albania  41.15330  20.168300        0        0        0        0   \n",
       "2        Algeria  28.03390   1.659600        0        0        0        0   \n",
       "3        Andorra  42.50630   1.521800        0        0        0        0   \n",
       "4         Angola -11.20270  17.873900        0        0        0        0   \n",
       "\n",
       "   1/26/20  1/27/20  1/28/20  ...  7/28/20  7/29/20  7/30/20  7/31/20  8/1/20  \\\n",
       "0        0        0        0  ...    36368    36471    36542    36675   36710   \n",
       "1        0        0        0  ...     4997     5105     5197     5276    5396   \n",
       "2        0        0        0  ...    28615    29229    29831    30394   30950   \n",
       "3        0        0        0  ...      907      918      922      925     925   \n",
       "4        0        0        0  ...     1000     1078     1109     1148    1164   \n",
       "\n",
       "   8/2/20  8/3/20  8/4/20  8/5/20  8/6/20  \n",
       "0   36710   36747   36782   36829   36896  \n",
       "1    5519    5620    5750    5889    6016  \n",
       "2   31465   31972   32504   33055   33626  \n",
       "3     925     937     939     939     944  \n",
       "4    1199    1280    1344    1395    1483  \n",
       "\n",
       "[5 rows x 201 columns]"
      ]
     },
     "execution_count": 104,
     "metadata": {},
     "output_type": "execute_result"
    }
   ],
   "source": [
    "cumulated_confirmed_country.head()"
   ]
  },
  {
   "cell_type": "code",
   "execution_count": 105,
   "metadata": {},
   "outputs": [],
   "source": [
    "unique_countries = cumulated_confirmed_country[\"Country/Region\"].unique()"
   ]
  },
  {
   "cell_type": "code",
   "execution_count": 106,
   "metadata": {},
   "outputs": [
    {
     "data": {
      "text/html": [
       "<div>\n",
       "<style scoped>\n",
       "    .dataframe tbody tr th:only-of-type {\n",
       "        vertical-align: middle;\n",
       "    }\n",
       "\n",
       "    .dataframe tbody tr th {\n",
       "        vertical-align: top;\n",
       "    }\n",
       "\n",
       "    .dataframe thead th {\n",
       "        text-align: right;\n",
       "    }\n",
       "</style>\n",
       "<table border=\"1\" class=\"dataframe\">\n",
       "  <thead>\n",
       "    <tr style=\"text-align: right;\">\n",
       "      <th></th>\n",
       "      <th>Country/Region</th>\n",
       "      <th>Lat</th>\n",
       "      <th>Long</th>\n",
       "      <th>1/22/20</th>\n",
       "      <th>1/23/20</th>\n",
       "      <th>1/24/20</th>\n",
       "      <th>1/25/20</th>\n",
       "      <th>1/26/20</th>\n",
       "      <th>1/27/20</th>\n",
       "      <th>1/28/20</th>\n",
       "      <th>...</th>\n",
       "      <th>7/28/20</th>\n",
       "      <th>7/29/20</th>\n",
       "      <th>7/30/20</th>\n",
       "      <th>7/31/20</th>\n",
       "      <th>8/1/20</th>\n",
       "      <th>8/2/20</th>\n",
       "      <th>8/3/20</th>\n",
       "      <th>8/4/20</th>\n",
       "      <th>8/5/20</th>\n",
       "      <th>8/6/20</th>\n",
       "    </tr>\n",
       "  </thead>\n",
       "  <tbody>\n",
       "    <tr>\n",
       "      <th>165</th>\n",
       "      <td>Taiwan*</td>\n",
       "      <td>23.7</td>\n",
       "      <td>121.0</td>\n",
       "      <td>0</td>\n",
       "      <td>0</td>\n",
       "      <td>0</td>\n",
       "      <td>0</td>\n",
       "      <td>0</td>\n",
       "      <td>0</td>\n",
       "      <td>0</td>\n",
       "      <td>...</td>\n",
       "      <td>7</td>\n",
       "      <td>7</td>\n",
       "      <td>7</td>\n",
       "      <td>7</td>\n",
       "      <td>7</td>\n",
       "      <td>7</td>\n",
       "      <td>7</td>\n",
       "      <td>7</td>\n",
       "      <td>7</td>\n",
       "      <td>7</td>\n",
       "    </tr>\n",
       "  </tbody>\n",
       "</table>\n",
       "<p>1 rows × 201 columns</p>\n",
       "</div>"
      ],
      "text/plain": [
       "    Country/Region   Lat   Long  1/22/20  1/23/20  1/24/20  1/25/20  1/26/20  \\\n",
       "165        Taiwan*  23.7  121.0        0        0        0        0        0   \n",
       "\n",
       "     1/27/20  1/28/20  ...  7/28/20  7/29/20  7/30/20  7/31/20  8/1/20  \\\n",
       "165        0        0  ...        7        7        7        7       7   \n",
       "\n",
       "     8/2/20  8/3/20  8/4/20  8/5/20  8/6/20  \n",
       "165       7       7       7       7       7  \n",
       "\n",
       "[1 rows x 201 columns]"
      ]
     },
     "execution_count": 106,
     "metadata": {},
     "output_type": "execute_result"
    }
   ],
   "source": [
    "cumulated_deaths_country[cumulated_deaths_country[\"Country/Region\"]==\"Taiwan*\"]\n"
   ]
  },
  {
   "cell_type": "code",
   "execution_count": 107,
   "metadata": {},
   "outputs": [],
   "source": [
    "## Call this only if you wanna wait forever\n",
    "proceed = False\n",
    "if proceed:\n",
    "    for country in unique_countries:\n",
    "        covid_lib.plt_all_cases_increase_cases(country, cumulated_confirmed_country  )"
   ]
  },
  {
   "cell_type": "code",
   "execution_count": 108,
   "metadata": {},
   "outputs": [],
   "source": [
    "# US_confirmed = cumulated_confirmed.loc[cumulated_confirmed[\"Country/Region\"]==\"US\"].head()\n",
    "# US_confirmed\n",
    "\n",
    "# all_cases, increased_case = covid_lib.df_to_timeseries(US_confirmed, 7)"
   ]
  },
  {
   "cell_type": "markdown",
   "metadata": {},
   "source": [
    "### Taiwan Analysis"
   ]
  },
  {
   "cell_type": "code",
   "execution_count": 109,
   "metadata": {},
   "outputs": [
    {
     "name": "stdout",
     "output_type": "stream",
     "text": [
      "[477.64961111 478.39153635 479.1127484  479.83824867 480.56290318\n",
      " 481.28771918 482.01250505 482.73729644 483.46208684 484.18687741\n",
      " 484.91166795]\n"
     ]
    }
   ],
   "source": [
    "query_country = \"Taiwan*\"\n",
    "query_confirmed = cumulated_confirmed.loc[cumulated_confirmed[\"Country/Region\"]==query_country]\n",
    "queried_total_cases, queried_increased_case = covid_lib.df_to_timeseries(query_confirmed, 1)\n",
    "model = SARIMAX(queried_total_cases, order=(1, 1, 1), seasonal_order=(1, 1, 1, 1))\n",
    "model_fit = model.fit(disp=False)\n",
    "yhat = model_fit.predict(len(queried_total_cases), len(queried_total_cases)+10)\n",
    "print(yhat)\n",
    "covid_lib.plot_all( queried_total_cases, queried_increased_case, yhat , query_country )"
   ]
  },
  {
   "cell_type": "code",
   "execution_count": 110,
   "metadata": {},
   "outputs": [],
   "source": [
    "# TW_confirmed = cumulated_confirmed.loc[cumulated_confirmed[\"Country/Region\"]==\"Taiwan*\"].head()\n",
    "# total_cases, increased_case = covid_lib.df_to_timeseries(TW_confirmed, 7)\n"
   ]
  },
  {
   "cell_type": "markdown",
   "metadata": {},
   "source": [
    "### US Analysis"
   ]
  },
  {
   "cell_type": "code",
   "execution_count": 111,
   "metadata": {},
   "outputs": [],
   "source": [
    "US_confirmed = cumulated_confirmed.loc[cumulated_confirmed[\"Country/Region\"]==\"US\"].head()\n",
    "total_cases, increased_case = covid_lib.df_to_timeseries(US_confirmed, 7)\n"
   ]
  },
  {
   "cell_type": "code",
   "execution_count": 112,
   "metadata": {},
   "outputs": [
    {
     "data": {
      "application/javascript": [
       "\n",
       "        if (window._pyforest_update_imports_cell) { window._pyforest_update_imports_cell('import numpy as np\\nimport pandas as pd'); }\n",
       "    "
      ],
      "text/plain": [
       "<IPython.core.display.Javascript object>"
      ]
     },
     "metadata": {},
     "output_type": "display_data"
    },
    {
     "data": {
      "image/png": "[encoded data removed]",
      "text/plain": [
       "<Figure size 720x360 with 1 Axes>"
      ]
     },
     "metadata": {
      "needs_background": "light"
     },
     "output_type": "display_data"
    }
   ],
   "source": [
    "figure = plt.figure(figsize = (10,5))\n",
    "plt.plot(increased_case)\n",
    "plt.xticks(np.arange(0, len(increased_case.dropna()), 6)) \n",
    "plt.xticks(rotation=90)\n",
    "plt.savefig(\"Infected Case.jpg\",  bbox_inches='tight')"
   ]
  },
  {
   "cell_type": "code",
   "execution_count": 113,
   "metadata": {},
   "outputs": [],
   "source": [
    "# covid_lib.plot_all( total_cases, increased_case, yhat , \"US\" )"
   ]
  },
  {
   "cell_type": "markdown",
   "metadata": {},
   "source": [
    "---"
   ]
  },
  {
   "cell_type": "markdown",
   "metadata": {},
   "source": [
    "### Full Model Building"
   ]
  },
  {
   "cell_type": "code",
   "execution_count": 114,
   "metadata": {},
   "outputs": [
    {
     "name": "stderr",
     "output_type": "stream",
     "text": [
      "/home/mavericku/anaconda3/lib/python3.7/site-packages/statsmodels/tsa/statespace/sarimax.py:981: UserWarning:\n",
      "\n",
      "Non-stationary starting seasonal autoregressive Using zeros as starting parameters.\n",
      "\n",
      "/home/mavericku/anaconda3/lib/python3.7/site-packages/statsmodels/tsa/statespace/sarimax.py:993: UserWarning:\n",
      "\n",
      "Non-invertible starting seasonal moving average Using zeros as starting parameters.\n",
      "\n"
     ]
    },
    {
     "name": "stdout",
     "output_type": "stream",
     "text": [
      "Test RMSE: 22.210\n"
     ]
    },
    {
     "data": {
      "image/png": "[encoded data removed]",
      "text/plain": [
       "<Figure size 1440x720 with 1 Axes>"
      ]
     },
     "metadata": {
      "needs_background": "light"
     },
     "output_type": "display_data"
    }
   ],
   "source": [
    "## This only predicts for one day\n",
    "predictions_total, model_total = covid_lib.SARIMA_PREDICT(total_cases,\"Total Cases\", order_tuple = (0,1,0), fit_param = (True, True))\n",
    "# predictions_total, model_total = covid_lib.SARIMA_PREDICT_edit(total_cases,\"Total Cases\", order_tuple = (0,1,0), fit_param = (True, True))"
   ]
  },
  {
   "cell_type": "markdown",
   "metadata": {},
   "source": [
    "#### Predict future total Cases"
   ]
  },
  {
   "cell_type": "code",
   "execution_count": 115,
   "metadata": {},
   "outputs": [
    {
     "name": "stdout",
     "output_type": "stream",
     "text": [
      "50532.744619381956\n"
     ]
    },
    {
     "data": {
      "image/png": "[encoded data removed]",
      "text/plain": [
       "<Figure size 432x288 with 1 Axes>"
      ]
     },
     "metadata": {
      "needs_background": "light"
     },
     "output_type": "display_data"
    }
   ],
   "source": [
    "# today and tomorrow\n",
    "temp = model_total.forecast(14)\n",
    "plt.plot(temp)\n",
    "plt.plot(total_cases[-14:])\n",
    "\n",
    "\n",
    "from sklearn.metrics import mean_squared_error\n",
    "from math import sqrt\n",
    "rmse = sqrt(mean_squared_error(temp, total_cases[-14:])) / len(temp)\n",
    "print(rmse)"
   ]
  },
  {
   "cell_type": "markdown",
   "metadata": {},
   "source": [
    "---"
   ]
  },
  {
   "cell_type": "markdown",
   "metadata": {},
   "source": [
    "#### Count Increase Model Building"
   ]
  },
  {
   "cell_type": "code",
   "execution_count": 117,
   "metadata": {},
   "outputs": [
    {
     "name": "stderr",
     "output_type": "stream",
     "text": [
      "/home/mavericku/anaconda3/lib/python3.7/site-packages/statsmodels/tsa/statespace/sarimax.py:949: UserWarning:\n",
      "\n",
      "Non-stationary starting autoregressive parameters found. Using zeros as starting parameters.\n",
      "\n"
     ]
    },
    {
     "name": "stdout",
     "output_type": "stream",
     "text": [
      "Test RMSE: 18.301\n"
     ]
    },
    {
     "data": {
      "image/png": "[encoded data removed]",
      "text/plain": [
       "<Figure size 1440x720 with 1 Axes>"
      ]
     },
     "metadata": {
      "needs_background": "light"
     },
     "output_type": "display_data"
    }
   ],
   "source": [
    "increase_temp = increased_case.values \n",
    "# predictions_increase, model_increase = covid_lib.SARIMA_PREDICT_edit(increase_temp, \"Increase Cases\",  is_increase_case = True, fit_param = (True,True) )\n",
    "predictions_increase, model_increase = covid_lib.SARIMA_PREDICT(increase_temp, \"Increase Cases\",  is_increase_case = True, fit_param = (True,True) )"
   ]
  },
  {
   "cell_type": "code",
   "execution_count": 78,
   "metadata": {},
   "outputs": [
    {
     "name": "stdout",
     "output_type": "stream",
     "text": [
      "341550.5620772087\n"
     ]
    },
    {
     "data": {
      "image/png": "[encoded data removed]",
      "text/plain": [
       "<Figure size 432x288 with 1 Axes>"
      ]
     },
     "metadata": {
      "needs_background": "light"
     },
     "output_type": "display_data"
    }
   ],
   "source": [
    "# today and tomorrow\n",
    "forecasted_increase = model_increase.forecast(14)\n",
    "plt.plot(forecasted_increase)\n",
    "plt.plot(increase_temp[-14:])\n",
    "plt.legend([\"Forecasted\" , \"Actual\"])\n",
    "\n",
    "\n",
    "from sklearn.metrics import mean_squared_error\n",
    "from math import sqrt\n",
    "rmse = sqrt(mean_squared_error(temp, increase_temp[-14:])) / len(temp)\n",
    "print(rmse)"
   ]
  },
  {
   "cell_type": "code",
   "execution_count": 79,
   "metadata": {},
   "outputs": [],
   "source": [
    "# predictions_increase, model_increase = covid_lib.SARIMA_PREDICT_edit(increase_temp, \"Increase Cases\",  is_increase_case = True, fit_param = (True,True) )"
   ]
  },
  {
   "cell_type": "markdown",
   "metadata": {},
   "source": [
    "---"
   ]
  },
  {
   "cell_type": "markdown",
   "metadata": {},
   "source": [
    "### Model 1 test using lstm"
   ]
  },
  {
   "cell_type": "code",
   "execution_count": 80,
   "metadata": {},
   "outputs": [],
   "source": [
    "############# Modeling for total cases #############\n",
    "# one_week_feature, one_week_target = covid_lib.split_sequence(total_cases.transpose()[0], 7)\n",
    "# two_week_feature, two_week_target = covid_lib.split_sequence(total_cases.transpose()[0], 14)\n",
    "\n",
    "# train_owf, train_owt, test_owf, test_owt = covid_lib.train_test_split_timeseries(one_week_feature, one_week_target)\n",
    "\n",
    "\n",
    "# covid_lib.LSTM_PREDICT(feature = train_owf,\n",
    "#      target = train_owt, \n",
    "#      test_feature = test_owf,\n",
    "#      test_target = test_owt ,\n",
    "#      n_features = 1,\n",
    "#      n_steps = 7)\n",
    "\n",
    "############# Modeling for increased cases #############\n",
    "\n",
    "# one_week_feature, one_week_target = covid_lib.split_sequence(increased_case.values.transpose()[0], 7)\n",
    "# two_week_feature, two_week_target = covid_lib.split_sequence(increased_case.values.transpose()[0], 14)\n",
    "\n",
    "# train_owf, train_owt, test_owf, test_owt = covid_lib.train_test_split_timeseries(one_week_feature, one_week_target)\n",
    "\n",
    "\n",
    "# covid_lib.LSTM_PREDICT(feature = train_owf,\n",
    "#      target = train_owt, \n",
    "#      test_feature = test_owf,\n",
    "#      test_target = test_owt ,\n",
    "#      n_features = 1,\n",
    "#      n_steps = 7)"
   ]
  },
  {
   "cell_type": "code",
   "execution_count": 81,
   "metadata": {},
   "outputs": [],
   "source": [
    "############# Deprecated Testing Code #############\n",
    "\n",
    "# np.save(\"./test files/in_seq1\",in_seq1)\n",
    "# np.save(\"./test files/in_seq2\",in_seq2)\n",
    "# np.save(\"./test files/out_seq\",out_seq)\n",
    "# np.save(\"./test files/test_input\",test_input)\n",
    "\n",
    "\n",
    "# test_input =np.load(\"./test files/test_input.npy\") \n",
    "# in_seq1 = np.load(\"./test files/in_seq1.npy\")\n",
    "# in_seq2 = np.load(\"./test files/in_seq2.npy\")\n",
    "# out_seq = np.load(\"./test files/out_seq.npy\")"
   ]
  },
  {
   "cell_type": "code",
   "execution_count": 82,
   "metadata": {},
   "outputs": [
    {
     "data": {
      "application/javascript": [
       "\n",
       "        if (window._pyforest_update_imports_cell) { window._pyforest_update_imports_cell('import numpy as np\\nimport pandas as pd'); }\n",
       "    "
      ],
      "text/plain": [
       "<IPython.core.display.Javascript object>"
      ]
     },
     "metadata": {},
     "output_type": "display_data"
    }
   ],
   "source": [
    "sentiment_value_dataframe = pd.read_csv(\"../Data/SentimentValues.csv\", index_col = [0] )\n",
    "#  sentiment_value = sentiment_value_dataframe.iloc[:,-4:]\n",
    "# sentiment_value_dataframe\n",
    "\n",
    "SentimentValueTitle            = sentiment_value_dataframe.iloc[:,0]\n",
    "SentimentValueDescription      = sentiment_value_dataframe.iloc[:,1]\n",
    "SentimentValueTitleVader       = sentiment_value_dataframe.iloc[:,2]\n",
    "SentimentValueDescriptionVader = sentiment_value_dataframe.iloc[:,3]"
   ]
  },
  {
   "cell_type": "code",
   "execution_count": 83,
   "metadata": {},
   "outputs": [],
   "source": [
    "# SentimentValueTitle"
   ]
  },
  {
   "cell_type": "code",
   "execution_count": 84,
   "metadata": {},
   "outputs": [],
   "source": [
    "# len(SentimentValueTitle)"
   ]
  },
  {
   "cell_type": "code",
   "execution_count": 85,
   "metadata": {},
   "outputs": [],
   "source": [
    "# len(increased_case)"
   ]
  },
  {
   "cell_type": "code",
   "execution_count": 86,
   "metadata": {},
   "outputs": [],
   "source": [
    "# SentimentValueTitle\n",
    "# SentimentValueTitle_seq = SentimentValueTitle.values.reshape(len(SentimentValueTitle),1)"
   ]
  },
  {
   "cell_type": "code",
   "execution_count": 87,
   "metadata": {},
   "outputs": [],
   "source": [
    "# increased_case.iloc[0:61,0]"
   ]
  },
  {
   "cell_type": "code",
   "execution_count": 88,
   "metadata": {},
   "outputs": [],
   "source": [
    "# pd.Series(predictions_increase)"
   ]
  },
  {
   "cell_type": "code",
   "execution_count": 89,
   "metadata": {},
   "outputs": [
    {
     "data": {
      "application/javascript": [
       "\n",
       "        if (window._pyforest_update_imports_cell) { window._pyforest_update_imports_cell('import numpy as np\\nimport pandas as pd'); }\n",
       "    "
      ],
      "text/plain": [
       "<IPython.core.display.Javascript object>"
      ]
     },
     "metadata": {},
     "output_type": "display_data"
    }
   ],
   "source": [
    "predicted_length = int(len(increased_case.values) * 1 / 3)\n",
    "sarima_prediction = increased_case.iloc[0:predicted_length,0].append(pd.Series(predictions_increase), ignore_index = True)\n",
    "sarima_prediction_seq_ = sarima_prediction.values.reshape(len(sarima_prediction),1)\n"
   ]
  },
  {
   "cell_type": "code",
   "execution_count": 90,
   "metadata": {},
   "outputs": [
    {
     "data": {
      "text/plain": [
       "[<matplotlib.lines.Line2D at 0x7f4e85a87f50>]"
      ]
     },
     "execution_count": 90,
     "metadata": {},
     "output_type": "execute_result"
    },
    {
     "data": {
      "image/png": "[encoded data removed]",
      "text/plain": [
       "<Figure size 432x288 with 2 Axes>"
      ]
     },
     "metadata": {
      "needs_background": "light"
     },
     "output_type": "display_data"
    }
   ],
   "source": [
    "plt.subplot(2,1,1)\n",
    "plt.plot(increased_case)\n",
    "\n",
    "plt.subplot(2,1,2)\n",
    "plt.plot(sarima_prediction)"
   ]
  },
  {
   "cell_type": "code",
   "execution_count": 91,
   "metadata": {},
   "outputs": [
    {
     "data": {
      "text/plain": [
       "191"
      ]
     },
     "execution_count": 91,
     "metadata": {},
     "output_type": "execute_result"
    }
   ],
   "source": [
    "len(sarima_prediction_seq_)"
   ]
  },
  {
   "cell_type": "code",
   "execution_count": 92,
   "metadata": {},
   "outputs": [
    {
     "data": {
      "application/javascript": [
       "\n",
       "        if (window._pyforest_update_imports_cell) { window._pyforest_update_imports_cell('import numpy as np\\nimport pandas as pd'); }\n",
       "    "
      ],
      "text/plain": [
       "<IPython.core.display.Javascript object>"
      ]
     },
     "metadata": {},
     "output_type": "display_data"
    }
   ],
   "source": [
    "#### Data Preparation\n",
    "### Predicting increase case\n",
    "\n",
    "# define input sequence\n",
    "# in_seq1 = in_seq1.reshape((len(in_seq1), 1))\n",
    "# in_seq2 = in_seq2.reshape((len(in_seq2), 1))\n",
    "# out_seq = out_seq.reshape((len(out_seq), 1)) \n",
    "predicted_length = int(len(increased_case.values) * 1 / 3)\n",
    "sarima_prediction = increased_case.iloc[0:predicted_length,0].append(pd.Series(predictions_increase), ignore_index = True)\n",
    "\n",
    "sarima_prediction_seq_ = sarima_prediction.values.reshape(len(sarima_prediction),1)\n",
    "SentimentValueDescription_seq     = SentimentValueDescription.values.reshape(len(SentimentValueDescription),1)\n",
    "SentimentValueTitleVader_seq      = SentimentValueTitleVader.values.reshape(len(SentimentValueTitleVader),1)\n",
    "SentimentValueDescriptionVader_seq= SentimentValueDescriptionVader.values.reshape(len(SentimentValueDescriptionVader),1)\n",
    "SentimentValueTitle_seq           = SentimentValueTitle.values.reshape(len(SentimentValueTitle),1)\n",
    "out_seq = increased_case.values.reshape(len(increased_case.values), 1)\n",
    "\n",
    "# horizontally stack columns\n",
    "# dataset = hstack((in_seq1, in_seq2, out_seq))\n",
    "dataset = hstack((\n",
    "                sarima_prediction_seq_,\n",
    "                SentimentValueDescription_seq , \n",
    "                  SentimentValueTitleVader_seq, \n",
    "                  SentimentValueDescriptionVader_seq,\n",
    "                  SentimentValueTitle_seq,\n",
    "                  out_seq))\n",
    "test_input = hstack((\n",
    "                sarima_prediction_seq_,\n",
    "                SentimentValueDescription_seq , \n",
    "                  SentimentValueTitleVader_seq, \n",
    "                  SentimentValueDescriptionVader_seq,\n",
    "                  SentimentValueTitle_seq))"
   ]
  },
  {
   "cell_type": "code",
   "execution_count": 93,
   "metadata": {},
   "outputs": [],
   "source": [
    "# ################### Single Step LSTM ###################\n",
    "# n_steps = 14\n",
    "# X, y = covid_lib.split_sequences(dataset, n_steps)\n",
    "# n_features = X.shape[2] \n",
    "# model = Sequential()\n",
    "# model.add(LSTM(50, activation='relu', input_shape=(n_steps, n_features)))\n",
    "# model.add(Dense(1))\n",
    "# model.compile(optimizer='adam', loss='mse')\n",
    "\n",
    "# model.fit(X, y, epochs=200, verbose=0)\n",
    "\n",
    "# ################### Testing Results ###################\n",
    "\n",
    "# x_input = test_input[-14:]\n",
    "# ### reshape : sample count, time step, features\n",
    "# x_input = x_input.reshape((1, n_steps, n_features))\n",
    "# # print(x_input)\n",
    "# yhat = model.predict(x_input, verbose=0)\n",
    "# print(yhat)"
   ]
  },
  {
   "cell_type": "markdown",
   "metadata": {},
   "source": [
    "---"
   ]
  },
  {
   "cell_type": "code",
   "execution_count": 94,
   "metadata": {},
   "outputs": [
    {
     "name": "stdout",
     "output_type": "stream",
     "text": [
      "[[527910.75 538950.   537928.2  537031.44 541884.44 540661.5  540507.25]]\n"
     ]
    }
   ],
   "source": [
    "################### Multivariate, Multi Timestep LSTM ###################\n",
    "\n",
    "n_steps_in, n_steps_out = 14, 7\n",
    "X, y = covid_lib.split_sequences_three(dataset, n_steps_in, n_steps_out)\n",
    "n_features = X.shape[2] \n",
    "model = Sequential()\n",
    "model.add(LSTM(100, activation='relu', return_sequences=True, input_shape=(n_steps_in, n_features)))\n",
    "# model.add(LSTM(100, activation='relu', return_sequences=True))\n",
    "model.add(LSTM(100, activation='relu'))\n",
    "\n",
    "model.add(Dense(n_steps_out))\n",
    "model.compile(optimizer='adam', loss='mse')\n",
    "# fit model\n",
    "model.fit(X, y, epochs=200, verbose=0)\n",
    "\n",
    "################### Testing Results ###################\n",
    "\n",
    "x_input = test_input[-n_steps_in:]\n",
    "### reshape : sample count, time step, features\n",
    "x_input = x_input.reshape((1, n_steps_in, n_features))\n",
    "# print(x_input)\n",
    "yhat = model.predict(x_input, verbose=0)\n",
    "print(yhat)"
   ]
  },
  {
   "cell_type": "markdown",
   "metadata": {},
   "source": [
    "---"
   ]
  },
  {
   "cell_type": "code",
   "execution_count": 95,
   "metadata": {},
   "outputs": [
    {
     "data": {
      "application/javascript": [
       "\n",
       "        if (window._pyforest_update_imports_cell) { window._pyforest_update_imports_cell('import numpy as np\\nimport pandas as pd'); }\n",
       "    "
      ],
      "text/plain": [
       "<IPython.core.display.Javascript object>"
      ]
     },
     "metadata": {},
     "output_type": "display_data"
    },
    {
     "data": {
      "application/javascript": [
       "\n",
       "        if (window._pyforest_update_imports_cell) { window._pyforest_update_imports_cell('import numpy as np\\nimport pandas as pd'); }\n",
       "    "
      ],
      "text/plain": [
       "<IPython.core.display.Javascript object>"
      ]
     },
     "metadata": {},
     "output_type": "display_data"
    },
    {
     "data": {
      "application/javascript": [
       "\n",
       "        if (window._pyforest_update_imports_cell) { window._pyforest_update_imports_cell('import numpy as np\\nimport pandas as pd'); }\n",
       "    "
      ],
      "text/plain": [
       "<IPython.core.display.Javascript object>"
      ]
     },
     "metadata": {},
     "output_type": "display_data"
    },
    {
     "data": {
      "application/javascript": [
       "\n",
       "        if (window._pyforest_update_imports_cell) { window._pyforest_update_imports_cell('import numpy as np\\nimport pandas as pd'); }\n",
       "    "
      ],
      "text/plain": [
       "<IPython.core.display.Javascript object>"
      ]
     },
     "metadata": {},
     "output_type": "display_data"
    },
    {
     "name": "stderr",
     "output_type": "stream",
     "text": [
      "/home/mavericku/anaconda3/lib/python3.7/site-packages/ipykernel_launcher.py:13: SettingWithCopyWarning:\n",
      "\n",
      "\n",
      "A value is trying to be set on a copy of a slice from a DataFrame\n",
      "\n",
      "See the caveats in the documentation: http://pandas.pydata.org/pandas-docs/stable/user_guide/indexing.html#returning-a-view-versus-a-copy\n",
      "\n",
      "/home/mavericku/anaconda3/lib/python3.7/site-packages/ipykernel_launcher.py:14: SettingWithCopyWarning:\n",
      "\n",
      "\n",
      "A value is trying to be set on a copy of a slice from a DataFrame\n",
      "\n",
      "See the caveats in the documentation: http://pandas.pydata.org/pandas-docs/stable/user_guide/indexing.html#returning-a-view-versus-a-copy\n",
      "\n"
     ]
    },
    {
     "data": {
      "image/png": "[encoded data removed]",
      "text/plain": [
       "<Figure size 720x360 with 1 Axes>"
      ]
     },
     "metadata": {
      "needs_background": "light"
     },
     "output_type": "display_data"
    }
   ],
   "source": [
    "final_graph_df = pd.DataFrame(increased_case)\n",
    "final_graph_df[\"SARIMA\"] = np.nan\n",
    "final_graph_df[\"LSTM\"] = np.nan\n",
    "\n",
    "### Add last 7 predicted values to dataframe\n",
    "sarima = []\n",
    "for i in sarima_prediction_seq_[-n_steps_out:].tolist():\n",
    "    sarima.append(i[0])\n",
    "    \n",
    "# sarima_list = sarima_prediction_seq_[-n_steps_out:].tolist()\n",
    "# for i in range(-n_steps_out, 0):\n",
    "    \n",
    "final_graph_df[\"SARIMA\"][-7:] =  np.array(sarima)\n",
    "final_graph_df[\"LSTM\"][-7:] = yhat[0]\n",
    "\n",
    "### Check \n",
    "final_graph_df[-14:]\n",
    "\n",
    "\n",
    "### Plot\n",
    "\n",
    "plt.figure(figsize=(10,5))\n",
    "plt.plot(final_graph_df[-14:])\n",
    "# plt.plot(increased_case[-n_steps_out:])\n",
    "# plt.plot(yhat[0])\n",
    "# plt.plot(sarima_prediction_seq_[-n_steps_out:])\n",
    "plt.legend([ \"Actual\" ,   \"SARIMA\" , \"Prediction\" ,])\n",
    "plt.xticks(rotation = 90)\n",
    "plt.savefig(\"../Showcase.png\")"
   ]
  },
  {
   "cell_type": "code",
   "execution_count": 96,
   "metadata": {},
   "outputs": [],
   "source": [
    "# plt.plot(in_seq1_ar)\n",
    "# plt.plot(out_seq)\n",
    "# plt.plot(lstm_predictions)\n",
    "# plt.legend([\"SARIMA Prediction\" , \"Real Value\" , \"Boosted LSTM\"])\n",
    "# # plt.savefig(\"BoostedLSTMDay7.png\")"
   ]
  },
  {
   "cell_type": "code",
   "execution_count": null,
   "metadata": {},
   "outputs": [],
   "source": []
  },
  {
   "cell_type": "code",
   "execution_count": null,
   "metadata": {},
   "outputs": [],
   "source": []
  }
 ],
 "metadata": {
  "kernelspec": {
   "display_name": "Python 3",
   "language": "python",
   "name": "python3"
  },
  "language_info": {
   "codemirror_mode": {
    "name": "ipython",
    "version": 3
   },
   "file_extension": ".py",
   "mimetype": "text/x-python",
   "name": "python",
   "nbconvert_exporter": "python",
   "pygments_lexer": "ipython3",
   "version": "3.7.4"
  }
 },
 "nbformat": 4,
 "nbformat_minor": 4
}
