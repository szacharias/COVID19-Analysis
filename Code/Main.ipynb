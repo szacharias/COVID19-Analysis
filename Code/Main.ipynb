{
 "cells": [
  {
   "cell_type": "code",
   "execution_count": 1,
   "metadata": {},
   "outputs": [],
   "source": [
    "import pandas\n",
    "import seaborn\n",
    "import sklearn\n",
    "import functions as covid_lib\n",
    "from random import random\n",
    "from matplotlib import pyplot as plt\n",
    "\n",
    "import dash\n",
    "import dash_core_components as dcc\n",
    "import dash_html_components as html\n",
    "import plotly.graph_objects as go\n",
    "from dash.dependencies import Input, Output \n",
    "\n",
    "import statsmodels.api as sm\n",
    "from statsmodels.graphics.tsaplots import plot_acf, plot_pacf\n",
    "from statsmodels.tsa.statespace.sarimax import SARIMAX"
   ]
  },
  {
   "cell_type": "markdown",
   "metadata": {},
   "source": [
    "---\n",
    "## 1st Dataset : John Hopkins Data"
   ]
  },
  {
   "cell_type": "code",
   "execution_count": 2,
   "metadata": {},
   "outputs": [
    {
     "data": {
      "application/javascript": [
       "\n",
       "        if (window._pyforest_update_imports_cell) { window._pyforest_update_imports_cell('import pandas as pd'); }\n",
       "    "
      ],
      "text/plain": [
       "<IPython.core.display.Javascript object>"
      ]
     },
     "metadata": {},
     "output_type": "display_data"
    },
    {
     "data": {
      "application/javascript": [
       "\n",
       "        if (window._pyforest_update_imports_cell) { window._pyforest_update_imports_cell('import pandas as pd'); }\n",
       "    "
      ],
      "text/plain": [
       "<IPython.core.display.Javascript object>"
      ]
     },
     "metadata": {},
     "output_type": "display_data"
    },
    {
     "data": {
      "application/javascript": [
       "\n",
       "        if (window._pyforest_update_imports_cell) { window._pyforest_update_imports_cell('import pandas as pd'); }\n",
       "    "
      ],
      "text/plain": [
       "<IPython.core.display.Javascript object>"
      ]
     },
     "metadata": {},
     "output_type": "display_data"
    }
   ],
   "source": [
    "## John Hopkins Center for Systems Science and Engineer Data Base URL\n",
    "## Contains timeseries data\n",
    "## This set of data is updated daily\n",
    "baseURL = \"https://raw.githubusercontent.com/CSSEGISandData/COVID-19/master/csse_covid_19_data/csse_covid_19_time_series/\"\n",
    "\n",
    "cumulated_confirmed_url = baseURL + \"time_series_covid19_confirmed_global.csv\"\n",
    "cumulated_deaths_url    = baseURL + \"time_series_covid19_deaths_global.csv\"\n",
    "cumulated_recovered_url = baseURL + \"time_series_covid19_recovered_global.csv\"\n",
    "\n",
    "cumulated_confirmed     = pd.read_csv(cumulated_confirmed_url)\n",
    "cumulated_deaths        = pd.read_csv(cumulated_deaths_url)\n",
    "cumulated_recovered     = pd.read_csv(cumulated_recovered_url)\n",
    "\n",
    "## Processed Dataset\n",
    "## Combine by Country/Region\n",
    "cumulated_confirmed_country = covid_lib.df_groupby_countries(cumulated_confirmed)\n",
    "cumulated_deaths_country = covid_lib.df_groupby_countries(cumulated_deaths)\n",
    "cumulated_recovered_country = covid_lib.df_groupby_countries(cumulated_recovered)"
   ]
  },
  {
   "cell_type": "code",
   "execution_count": 3,
   "metadata": {},
   "outputs": [
    {
     "name": "stdout",
     "output_type": "stream",
     "text": [
      "Confirmed data shape : (188, 164)\n",
      "Recovered data shape : (188, 164)\n",
      "Deaths data shape : (188, 164)\n"
     ]
    }
   ],
   "source": [
    "print(\"Confirmed data shape : \" + str(cumulated_confirmed_country.shape))\n",
    "print(\"Recovered data shape : \" + str(cumulated_deaths_country.shape))\n",
    "print(\"Deaths data shape : \" + str(cumulated_recovered_country.shape))"
   ]
  },
  {
   "cell_type": "code",
   "execution_count": 4,
   "metadata": {},
   "outputs": [],
   "source": [
    "# ## To find specific instances on certain countries\n",
    "# ## Consider grouping by countries to simplify the analysis process\n",
    "# cumulated_confirmed.loc[cumulated_confirmed[\"Country/Region\"]==\"US\"].head()"
   ]
  },
  {
   "cell_type": "code",
   "execution_count": 5,
   "metadata": {},
   "outputs": [
    {
     "data": {
      "text/html": [
       "<div>\n",
       "<style scoped>\n",
       "    .dataframe tbody tr th:only-of-type {\n",
       "        vertical-align: middle;\n",
       "    }\n",
       "\n",
       "    .dataframe tbody tr th {\n",
       "        vertical-align: top;\n",
       "    }\n",
       "\n",
       "    .dataframe thead th {\n",
       "        text-align: right;\n",
       "    }\n",
       "</style>\n",
       "<table border=\"1\" class=\"dataframe\">\n",
       "  <thead>\n",
       "    <tr style=\"text-align: right;\">\n",
       "      <th></th>\n",
       "      <th>Country/Region</th>\n",
       "      <th>Lat</th>\n",
       "      <th>Long</th>\n",
       "      <th>1/22/20</th>\n",
       "      <th>1/23/20</th>\n",
       "      <th>1/24/20</th>\n",
       "      <th>1/25/20</th>\n",
       "      <th>1/26/20</th>\n",
       "      <th>1/27/20</th>\n",
       "      <th>1/28/20</th>\n",
       "      <th>...</th>\n",
       "      <th>6/21/20</th>\n",
       "      <th>6/22/20</th>\n",
       "      <th>6/23/20</th>\n",
       "      <th>6/24/20</th>\n",
       "      <th>6/25/20</th>\n",
       "      <th>6/26/20</th>\n",
       "      <th>6/27/20</th>\n",
       "      <th>6/28/20</th>\n",
       "      <th>6/29/20</th>\n",
       "      <th>6/30/20</th>\n",
       "    </tr>\n",
       "  </thead>\n",
       "  <tbody>\n",
       "    <tr>\n",
       "      <th>0</th>\n",
       "      <td>Afghanistan</td>\n",
       "      <td>33.0000</td>\n",
       "      <td>65.0000</td>\n",
       "      <td>0</td>\n",
       "      <td>0</td>\n",
       "      <td>0</td>\n",
       "      <td>0</td>\n",
       "      <td>0</td>\n",
       "      <td>0</td>\n",
       "      <td>0</td>\n",
       "      <td>...</td>\n",
       "      <td>28833</td>\n",
       "      <td>29157</td>\n",
       "      <td>29481</td>\n",
       "      <td>29640</td>\n",
       "      <td>30175</td>\n",
       "      <td>30451</td>\n",
       "      <td>30616</td>\n",
       "      <td>30967</td>\n",
       "      <td>31238</td>\n",
       "      <td>31517</td>\n",
       "    </tr>\n",
       "    <tr>\n",
       "      <th>1</th>\n",
       "      <td>Albania</td>\n",
       "      <td>41.1533</td>\n",
       "      <td>20.1683</td>\n",
       "      <td>0</td>\n",
       "      <td>0</td>\n",
       "      <td>0</td>\n",
       "      <td>0</td>\n",
       "      <td>0</td>\n",
       "      <td>0</td>\n",
       "      <td>0</td>\n",
       "      <td>...</td>\n",
       "      <td>1962</td>\n",
       "      <td>1995</td>\n",
       "      <td>2047</td>\n",
       "      <td>2114</td>\n",
       "      <td>2192</td>\n",
       "      <td>2269</td>\n",
       "      <td>2330</td>\n",
       "      <td>2402</td>\n",
       "      <td>2466</td>\n",
       "      <td>2535</td>\n",
       "    </tr>\n",
       "    <tr>\n",
       "      <th>2</th>\n",
       "      <td>Algeria</td>\n",
       "      <td>28.0339</td>\n",
       "      <td>1.6596</td>\n",
       "      <td>0</td>\n",
       "      <td>0</td>\n",
       "      <td>0</td>\n",
       "      <td>0</td>\n",
       "      <td>0</td>\n",
       "      <td>0</td>\n",
       "      <td>0</td>\n",
       "      <td>...</td>\n",
       "      <td>11771</td>\n",
       "      <td>11920</td>\n",
       "      <td>12076</td>\n",
       "      <td>12248</td>\n",
       "      <td>12445</td>\n",
       "      <td>12685</td>\n",
       "      <td>12968</td>\n",
       "      <td>13273</td>\n",
       "      <td>13571</td>\n",
       "      <td>13907</td>\n",
       "    </tr>\n",
       "    <tr>\n",
       "      <th>3</th>\n",
       "      <td>Andorra</td>\n",
       "      <td>42.5063</td>\n",
       "      <td>1.5218</td>\n",
       "      <td>0</td>\n",
       "      <td>0</td>\n",
       "      <td>0</td>\n",
       "      <td>0</td>\n",
       "      <td>0</td>\n",
       "      <td>0</td>\n",
       "      <td>0</td>\n",
       "      <td>...</td>\n",
       "      <td>855</td>\n",
       "      <td>855</td>\n",
       "      <td>855</td>\n",
       "      <td>855</td>\n",
       "      <td>855</td>\n",
       "      <td>855</td>\n",
       "      <td>855</td>\n",
       "      <td>855</td>\n",
       "      <td>855</td>\n",
       "      <td>855</td>\n",
       "    </tr>\n",
       "    <tr>\n",
       "      <th>4</th>\n",
       "      <td>Angola</td>\n",
       "      <td>-11.2027</td>\n",
       "      <td>17.8739</td>\n",
       "      <td>0</td>\n",
       "      <td>0</td>\n",
       "      <td>0</td>\n",
       "      <td>0</td>\n",
       "      <td>0</td>\n",
       "      <td>0</td>\n",
       "      <td>0</td>\n",
       "      <td>...</td>\n",
       "      <td>183</td>\n",
       "      <td>186</td>\n",
       "      <td>189</td>\n",
       "      <td>197</td>\n",
       "      <td>212</td>\n",
       "      <td>212</td>\n",
       "      <td>259</td>\n",
       "      <td>267</td>\n",
       "      <td>276</td>\n",
       "      <td>284</td>\n",
       "    </tr>\n",
       "  </tbody>\n",
       "</table>\n",
       "<p>5 rows × 164 columns</p>\n",
       "</div>"
      ],
      "text/plain": [
       "  Country/Region      Lat     Long  1/22/20  1/23/20  1/24/20  1/25/20  \\\n",
       "0    Afghanistan  33.0000  65.0000        0        0        0        0   \n",
       "1        Albania  41.1533  20.1683        0        0        0        0   \n",
       "2        Algeria  28.0339   1.6596        0        0        0        0   \n",
       "3        Andorra  42.5063   1.5218        0        0        0        0   \n",
       "4         Angola -11.2027  17.8739        0        0        0        0   \n",
       "\n",
       "   1/26/20  1/27/20  1/28/20  ...  6/21/20  6/22/20  6/23/20  6/24/20  \\\n",
       "0        0        0        0  ...    28833    29157    29481    29640   \n",
       "1        0        0        0  ...     1962     1995     2047     2114   \n",
       "2        0        0        0  ...    11771    11920    12076    12248   \n",
       "3        0        0        0  ...      855      855      855      855   \n",
       "4        0        0        0  ...      183      186      189      197   \n",
       "\n",
       "   6/25/20  6/26/20  6/27/20  6/28/20  6/29/20  6/30/20  \n",
       "0    30175    30451    30616    30967    31238    31517  \n",
       "1     2192     2269     2330     2402     2466     2535  \n",
       "2    12445    12685    12968    13273    13571    13907  \n",
       "3      855      855      855      855      855      855  \n",
       "4      212      212      259      267      276      284  \n",
       "\n",
       "[5 rows x 164 columns]"
      ]
     },
     "execution_count": 5,
     "metadata": {},
     "output_type": "execute_result"
    }
   ],
   "source": [
    "cumulated_confirmed_country.head()"
   ]
  },
  {
   "cell_type": "code",
   "execution_count": 6,
   "metadata": {},
   "outputs": [],
   "source": [
    "unique_countries = cumulated_confirmed_country[\"Country/Region\"].unique()"
   ]
  },
  {
   "cell_type": "code",
   "execution_count": 7,
   "metadata": {},
   "outputs": [
    {
     "data": {
      "text/html": [
       "<div>\n",
       "<style scoped>\n",
       "    .dataframe tbody tr th:only-of-type {\n",
       "        vertical-align: middle;\n",
       "    }\n",
       "\n",
       "    .dataframe tbody tr th {\n",
       "        vertical-align: top;\n",
       "    }\n",
       "\n",
       "    .dataframe thead th {\n",
       "        text-align: right;\n",
       "    }\n",
       "</style>\n",
       "<table border=\"1\" class=\"dataframe\">\n",
       "  <thead>\n",
       "    <tr style=\"text-align: right;\">\n",
       "      <th></th>\n",
       "      <th>Country/Region</th>\n",
       "      <th>Lat</th>\n",
       "      <th>Long</th>\n",
       "      <th>1/22/20</th>\n",
       "      <th>1/23/20</th>\n",
       "      <th>1/24/20</th>\n",
       "      <th>1/25/20</th>\n",
       "      <th>1/26/20</th>\n",
       "      <th>1/27/20</th>\n",
       "      <th>1/28/20</th>\n",
       "      <th>...</th>\n",
       "      <th>6/21/20</th>\n",
       "      <th>6/22/20</th>\n",
       "      <th>6/23/20</th>\n",
       "      <th>6/24/20</th>\n",
       "      <th>6/25/20</th>\n",
       "      <th>6/26/20</th>\n",
       "      <th>6/27/20</th>\n",
       "      <th>6/28/20</th>\n",
       "      <th>6/29/20</th>\n",
       "      <th>6/30/20</th>\n",
       "    </tr>\n",
       "  </thead>\n",
       "  <tbody>\n",
       "    <tr>\n",
       "      <th>165</th>\n",
       "      <td>Taiwan*</td>\n",
       "      <td>23.7</td>\n",
       "      <td>121.0</td>\n",
       "      <td>0</td>\n",
       "      <td>0</td>\n",
       "      <td>0</td>\n",
       "      <td>0</td>\n",
       "      <td>0</td>\n",
       "      <td>0</td>\n",
       "      <td>0</td>\n",
       "      <td>...</td>\n",
       "      <td>7</td>\n",
       "      <td>7</td>\n",
       "      <td>7</td>\n",
       "      <td>7</td>\n",
       "      <td>7</td>\n",
       "      <td>7</td>\n",
       "      <td>7</td>\n",
       "      <td>7</td>\n",
       "      <td>7</td>\n",
       "      <td>7</td>\n",
       "    </tr>\n",
       "  </tbody>\n",
       "</table>\n",
       "<p>1 rows × 164 columns</p>\n",
       "</div>"
      ],
      "text/plain": [
       "    Country/Region   Lat   Long  1/22/20  1/23/20  1/24/20  1/25/20  1/26/20  \\\n",
       "165        Taiwan*  23.7  121.0        0        0        0        0        0   \n",
       "\n",
       "     1/27/20  1/28/20  ...  6/21/20  6/22/20  6/23/20  6/24/20  6/25/20  \\\n",
       "165        0        0  ...        7        7        7        7        7   \n",
       "\n",
       "     6/26/20  6/27/20  6/28/20  6/29/20  6/30/20  \n",
       "165        7        7        7        7        7  \n",
       "\n",
       "[1 rows x 164 columns]"
      ]
     },
     "execution_count": 7,
     "metadata": {},
     "output_type": "execute_result"
    }
   ],
   "source": [
    "cumulated_deaths_country[cumulated_deaths_country[\"Country/Region\"]==\"Taiwan*\"]\n"
   ]
  },
  {
   "cell_type": "code",
   "execution_count": 8,
   "metadata": {},
   "outputs": [],
   "source": [
    "## Call this only if you wanna wait forever\n",
    "proceed = False\n",
    "if proceed:\n",
    "    for country in unique_countries:\n",
    "        covid_lib.plt_all_cases_increase_cases(country, cumulated_confirmed_country  )"
   ]
  },
  {
   "cell_type": "code",
   "execution_count": 9,
   "metadata": {},
   "outputs": [],
   "source": [
    "# US_confirmed = cumulated_confirmed.loc[cumulated_confirmed[\"Country/Region\"]==\"US\"].head()\n",
    "# US_confirmed\n",
    "\n",
    "# all_cases, increased_case = covid_lib.df_to_timeseries(US_confirmed, 7)"
   ]
  },
  {
   "cell_type": "code",
   "execution_count": 10,
   "metadata": {},
   "outputs": [],
   "source": [
    "# plot_acf(temp_data, lags = 20 , alpha = 0.05) \n",
    "# plot_acf(increased_case.dropna())\n",
    "# plot_pacf(increased_case.dropna())"
   ]
  },
  {
   "cell_type": "markdown",
   "metadata": {},
   "source": [
    "### Taiwan Analysis"
   ]
  },
  {
   "cell_type": "code",
   "execution_count": 11,
   "metadata": {},
   "outputs": [],
   "source": [
    "TW_confirmed = cumulated_confirmed.loc[cumulated_confirmed[\"Country/Region\"]==\"Taiwan*\"].head()\n",
    "total_cases, increased_case = covid_lib.df_to_timeseries(TW_confirmed, 7)\n"
   ]
  },
  {
   "cell_type": "code",
   "execution_count": 12,
   "metadata": {},
   "outputs": [],
   "source": [
    "### TODO : I doing SARIMA on the total or the increase index?"
   ]
  },
  {
   "cell_type": "markdown",
   "metadata": {},
   "source": [
    "---"
   ]
  },
  {
   "cell_type": "markdown",
   "metadata": {},
   "source": [
    "### Changes in total Cases"
   ]
  },
  {
   "cell_type": "code",
   "execution_count": 13,
   "metadata": {},
   "outputs": [
    {
     "name": "stdout",
     "output_type": "stream",
     "text": [
      "[447.00080778 447.00118604 447.0017136  447.00219638 447.00269162\n",
      " 447.00318355 447.00367633 447.00416889 447.00466151 447.00515411\n",
      " 447.00564672 447.00613933 447.00663194 447.00712454 447.00761715\n",
      " 447.00810976 447.00860237 447.00909498 447.00958758 447.01008019\n",
      " 447.0105728  447.01106541 447.01155801 447.01205062 447.01254323\n",
      " 447.01303584 447.01352844 447.01402105 447.01451366 447.01500627\n",
      " 447.01549887 447.01599148 447.01648409 447.0169767  447.0174693\n",
      " 447.01796191 447.01845452 447.01894713 447.01943974 447.01993234\n",
      " 447.02042495 447.02091756 447.02141017 447.02190277 447.02239538\n",
      " 447.02288799 447.0233806  447.0238732  447.02436581 447.02485842\n",
      " 447.02535103 447.02584363 447.02633624 447.02682885 447.02732146\n",
      " 447.02781406 447.02830667 447.02879928 447.02929189 447.0297845\n",
      " 447.0302771  447.03076971 447.03126232 447.03175493 447.03224753\n",
      " 447.03274014 447.03323275 447.03372536 447.03421796 447.03471057\n",
      " 447.03520318 447.03569579 447.03618839 447.036681   447.03717361\n",
      " 447.03766622 447.03815882 447.03865143 447.03914404 447.03963665\n",
      " 447.04012926 447.04062186 447.04111447 447.04160708 447.04209969\n",
      " 447.04259229 447.0430849  447.04357751 447.04407012 447.04456272\n",
      " 447.04505533 447.04554794 447.04604055 447.04653315 447.04702576\n",
      " 447.04751837 447.04801098 447.04850358 447.04899619 447.0494888\n",
      " 447.04998141]\n"
     ]
    }
   ],
   "source": [
    "\n",
    "# SARIMA example\n",
    "model = SARIMAX(total_cases, order=(1, 1, 1), seasonal_order=(1, 1, 1, 1))\n",
    "model_fit = model.fit(disp=True)\n",
    "yhat = model_fit.predict(len(total_cases), len(total_cases)+100)\n",
    "print(yhat)"
   ]
  },
  {
   "cell_type": "markdown",
   "metadata": {},
   "source": [
    "### Changes in increase curve"
   ]
  },
  {
   "cell_type": "code",
   "execution_count": 14,
   "metadata": {},
   "outputs": [
    {
     "name": "stdout",
     "output_type": "stream",
     "text": [
      "2020-07-01    0.999987\n",
      "2020-07-02    0.999982\n",
      "2020-07-03    0.999973\n",
      "2020-07-04    0.999966\n",
      "2020-07-05    0.999959\n",
      "                ...   \n",
      "2020-10-05    0.999271\n",
      "2020-10-06    0.999264\n",
      "2020-10-07    0.999256\n",
      "2020-10-08    0.999249\n",
      "2020-10-09    0.999241\n",
      "Freq: D, Length: 101, dtype: float64\n"
     ]
    },
    {
     "name": "stderr",
     "output_type": "stream",
     "text": [
      "/home/mavericku/anaconda3/lib/python3.7/site-packages/statsmodels/tsa/base/tsa_model.py:165: ValueWarning:\n",
      "\n",
      "No frequency information was provided, so inferred frequency D will be used.\n",
      "\n"
     ]
    }
   ],
   "source": [
    " \n",
    "# SARIMA example\n",
    "import statsmodels.api as sm\n",
    "from statsmodels.tsa.statespace.sarimax import SARIMAX\n",
    "from random import random\n",
    "# contrived dataset\n",
    "# data = [x + random() for x in range(1, 100)]\n",
    "# fit model\n",
    "model = SARIMAX(increased_case.dropna(), order=(1, 1, 1), seasonal_order=(1, 1, 1, 1))\n",
    "model_fit = model.fit(disp=True)\n",
    "# make prediction\n",
    "yhat = model_fit.predict(len(increased_case.dropna()), len(increased_case.dropna())+100)\n",
    "print(yhat)"
   ]
  },
  {
   "cell_type": "markdown",
   "metadata": {},
   "source": [
    "---"
   ]
  },
  {
   "cell_type": "code",
   "execution_count": 15,
   "metadata": {},
   "outputs": [],
   "source": [
    "covid_lib.plot_all( total_cases, increased_case, yhat , \"Taiwan\" )"
   ]
  },
  {
   "cell_type": "code",
   "execution_count": 16,
   "metadata": {},
   "outputs": [
    {
     "data": {
      "application/javascript": [
       "\n",
       "        if (window._pyforest_update_imports_cell) { window._pyforest_update_imports_cell('import numpy as np\\nimport pandas as pd'); }\n",
       "    "
      ],
      "text/plain": [
       "<IPython.core.display.Javascript object>"
      ]
     },
     "metadata": {},
     "output_type": "display_data"
    },
    {
     "data": {
      "application/javascript": [
       "\n",
       "        if (window._pyforest_update_imports_cell) { window._pyforest_update_imports_cell('import numpy as np\\nimport pandas as pd'); }\n",
       "    "
      ],
      "text/plain": [
       "<IPython.core.display.Javascript object>"
      ]
     },
     "metadata": {},
     "output_type": "display_data"
    },
    {
     "data": {
      "text/plain": [
       "Text(0.5, 1.0, 'yhat')"
      ]
     },
     "execution_count": 16,
     "metadata": {},
     "output_type": "execute_result"
    },
    {
     "data": {
      "image/png": "[encoded data removed]",
      "text/plain": [
       "<Figure size 720x720 with 2 Axes>"
      ]
     },
     "metadata": {
      "needs_background": "light"
     },
     "output_type": "display_data"
    },
    {
     "data": {
      "image/png": "[encoded data removed]",
      "text/plain": [
       "<Figure size 720x720 with 2 Axes>"
      ]
     },
     "metadata": {
      "needs_background": "light"
     },
     "output_type": "display_data"
    }
   ],
   "source": [
    "\n",
    "### Plotting\n",
    "\n",
    "predicted_cases = np.concatenate((total_cases[:,0], yhat + total_cases[-1,0]))\n",
    "\n",
    "figure = plt.figure(figsize=(10,10))\n",
    "\n",
    "plt.subplot(2,2,1)\n",
    "plt.title(\"Original Total Cases\")\n",
    "plt.plot(total_cases)\n",
    "\n",
    "plt.subplot(2,2,2)\n",
    "plt.plot(increased_case.dropna())\n",
    "plt.title(\"Increased case\")\n",
    "plt.xticks(rotation=90)\n",
    "plt.xticks(np.arange(0, len(increased_case.dropna()), (len(increased_case.dropna()) / 10))) \n",
    "\n",
    "figure = plt.figure(figsize = (10,10))\n",
    "plt.subplot(2,2,3)\n",
    "plt.plot(predicted_cases)\n",
    "plt.title(\"Total Cases and forcasted\")\n",
    "\n",
    "\n",
    "plt.subplot(2,2,4)\n",
    "plt.plot(yhat)\n",
    "plt.xticks(rotation=90)\n",
    "plt.title(\"yhat\")\n"
   ]
  }
 ],
 "metadata": {
  "kernelspec": {
   "display_name": "Python 3",
   "language": "python",
   "name": "python3"
  },
  "language_info": {
   "codemirror_mode": {
    "name": "ipython",
    "version": 3
   },
   "file_extension": ".py",
   "mimetype": "text/x-python",
   "name": "python",
   "nbconvert_exporter": "python",
   "pygments_lexer": "ipython3",
   "version": "3.7.4"
  }
 },
 "nbformat": 4,
 "nbformat_minor": 4
}
